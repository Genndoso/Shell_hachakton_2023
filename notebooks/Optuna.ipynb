{
 "cells": [
  {
   "cell_type": "code",
   "execution_count": 52,
   "metadata": {
    "collapsed": true,
    "ExecuteTime": {
     "end_time": "2023-08-07T14:22:37.807781200Z",
     "start_time": "2023-08-07T14:22:37.793250600Z"
    }
   },
   "outputs": [],
   "source": [
    "import os\n",
    "import pandas as pd\n",
    "import optuna\n",
    "from typing import Tuple\n",
    "import matplotlib.pyplot as plt\n",
    "import seaborn as sns\n",
    "os.chdir('/Users/user/PycharmProjects/Shell_hachakton_2023')\n",
    "from src.commons.utils import get_depot_param_space, get_refinery_param_space\n",
    "from src.supply_chain_opt.greedy_algorithm import Greedy_algorithm\n",
    "import warnings\n",
    "warnings.filterwarnings('ignore')"
   ]
  },
  {
   "cell_type": "code",
   "execution_count": 53,
   "outputs": [
    {
     "name": "stdout",
     "output_type": "stream",
     "text": [
      "Optimal number of depots is 18.\n"
     ]
    }
   ],
   "source": [
    "data = pd.read_csv('data/Biomass_History.csv', index_col=0)\n",
    "dist = pd.read_csv('data/Distance_Matrix.csv', index_col=0)\n",
    "biomass_2010 = data['2010']\n",
    "\n",
    "# Greedy Algorithm\n",
    "GA = Greedy_algorithm(biomass = biomass_2010,\n",
    "                      dist = dist)\n",
    "\n",
    "# Get space for depot optimization\n",
    "space_depot, number_of_depots = get_depot_param_space(biomass=biomass_2010)\n",
    "GA.number_of_depots = number_of_depots"
   ],
   "metadata": {
    "collapsed": false,
    "ExecuteTime": {
     "end_time": "2023-08-07T14:22:38.987835900Z",
     "start_time": "2023-08-07T14:22:38.171973Z"
    }
   }
  },
  {
   "cell_type": "code",
   "execution_count": 54,
   "outputs": [],
   "source": [
    "def optuna_obj(trial):\n",
    "\n",
    "    # Generate space\n",
    "    space = [trial.suggest_int('depot_idx_{}'.format(i), 0, len(GA.biomass) - 1) for i in range((GA.number_of_depots))]\n",
    "    space.append(trial.suggest_float('percentage_unilized', 0.5, 1))\n",
    "\n",
    "    # Constraints\n",
    "    c1 = GA.depot_constraint(space)\n",
    "    c2 = GA.harvest_constraint(space)\n",
    "    trial.set_user_attr('constraint', (c1,c2))\n",
    "\n",
    "    GA.optimize = False\n",
    "    cost, _, _ = GA.objective_depot(space)\n",
    "\n",
    "    return cost"
   ],
   "metadata": {
    "collapsed": false,
    "ExecuteTime": {
     "end_time": "2023-08-07T14:22:39.257834600Z",
     "start_time": "2023-08-07T14:22:39.257834600Z"
    }
   }
  },
  {
   "cell_type": "code",
   "execution_count": 55,
   "outputs": [
    {
     "name": "stderr",
     "output_type": "stream",
     "text": [
      "\u001B[32m[I 2023-08-07 18:22:44,233]\u001B[0m A new study created in memory with name: no-name-c83ea7d9-29f0-4713-a264-f560578f5e08\u001B[0m\n",
      "\u001B[32m[I 2023-08-07 18:22:44,787]\u001B[0m Trial 0 finished with value: 297188.85849794146 and parameters: {'depot_idx_0': 2332, 'depot_idx_1': 1846, 'depot_idx_2': 604, 'depot_idx_3': 601, 'depot_idx_4': 1579, 'depot_idx_5': 1323, 'depot_idx_6': 1619, 'depot_idx_7': 1903, 'depot_idx_8': 1121, 'depot_idx_9': 1331, 'depot_idx_10': 2266, 'depot_idx_11': 1952, 'depot_idx_12': 387, 'depot_idx_13': 476, 'depot_idx_14': 260, 'depot_idx_15': 398, 'depot_idx_16': 1158, 'depot_idx_17': 1060, 'percentage_unilized': 0.5056434508972291}. Best is trial 0 with value: 297188.85849794146.\u001B[0m\n",
      "\u001B[32m[I 2023-08-07 18:22:45,247]\u001B[0m Trial 1 finished with value: 290019.9301442778 and parameters: {'depot_idx_0': 2002, 'depot_idx_1': 1441, 'depot_idx_2': 2173, 'depot_idx_3': 1387, 'depot_idx_4': 1950, 'depot_idx_5': 1306, 'depot_idx_6': 369, 'depot_idx_7': 1046, 'depot_idx_8': 663, 'depot_idx_9': 656, 'depot_idx_10': 1266, 'depot_idx_11': 1991, 'depot_idx_12': 1135, 'depot_idx_13': 721, 'depot_idx_14': 5, 'depot_idx_15': 928, 'depot_idx_16': 1428, 'depot_idx_17': 1360, 'percentage_unilized': 0.5453509919402322}. Best is trial 1 with value: 290019.9301442778.\u001B[0m\n",
      "\u001B[32m[I 2023-08-07 18:22:45,717]\u001B[0m Trial 2 finished with value: 244755.2602496107 and parameters: {'depot_idx_0': 2359, 'depot_idx_1': 518, 'depot_idx_2': 248, 'depot_idx_3': 933, 'depot_idx_4': 875, 'depot_idx_5': 283, 'depot_idx_6': 389, 'depot_idx_7': 1556, 'depot_idx_8': 506, 'depot_idx_9': 288, 'depot_idx_10': 617, 'depot_idx_11': 417, 'depot_idx_12': 1382, 'depot_idx_13': 183, 'depot_idx_14': 1845, 'depot_idx_15': 2086, 'depot_idx_16': 1671, 'depot_idx_17': 548, 'percentage_unilized': 0.6825502597552942}. Best is trial 2 with value: 244755.2602496107.\u001B[0m\n",
      "\u001B[32m[I 2023-08-07 18:22:46,205]\u001B[0m Trial 3 finished with value: 129009.03231841483 and parameters: {'depot_idx_0': 2375, 'depot_idx_1': 1633, 'depot_idx_2': 1449, 'depot_idx_3': 857, 'depot_idx_4': 2306, 'depot_idx_5': 590, 'depot_idx_6': 33, 'depot_idx_7': 2140, 'depot_idx_8': 2269, 'depot_idx_9': 973, 'depot_idx_10': 73, 'depot_idx_11': 1213, 'depot_idx_12': 2224, 'depot_idx_13': 2073, 'depot_idx_14': 1560, 'depot_idx_15': 1544, 'depot_idx_16': 1987, 'depot_idx_17': 404, 'percentage_unilized': 0.8933393819411927}. Best is trial 3 with value: 129009.03231841483.\u001B[0m\n",
      "\u001B[32m[I 2023-08-07 18:22:46,667]\u001B[0m Trial 4 finished with value: 50547.38068520394 and parameters: {'depot_idx_0': 935, 'depot_idx_1': 503, 'depot_idx_2': 1160, 'depot_idx_3': 144, 'depot_idx_4': 546, 'depot_idx_5': 645, 'depot_idx_6': 285, 'depot_idx_7': 517, 'depot_idx_8': 1895, 'depot_idx_9': 2315, 'depot_idx_10': 1401, 'depot_idx_11': 334, 'depot_idx_12': 445, 'depot_idx_13': 1029, 'depot_idx_14': 1724, 'depot_idx_15': 641, 'depot_idx_16': 1136, 'depot_idx_17': 1272, 'percentage_unilized': 0.9928605116935731}. Best is trial 4 with value: 50547.38068520394.\u001B[0m\n",
      "\u001B[32m[I 2023-08-07 18:22:47,117]\u001B[0m Trial 5 finished with value: 298924.9010381078 and parameters: {'depot_idx_0': 233, 'depot_idx_1': 179, 'depot_idx_2': 840, 'depot_idx_3': 804, 'depot_idx_4': 2113, 'depot_idx_5': 278, 'depot_idx_6': 1373, 'depot_idx_7': 1276, 'depot_idx_8': 1217, 'depot_idx_9': 1305, 'depot_idx_10': 1477, 'depot_idx_11': 2400, 'depot_idx_12': 55, 'depot_idx_13': 1330, 'depot_idx_14': 1953, 'depot_idx_15': 1269, 'depot_idx_16': 943, 'depot_idx_17': 255, 'percentage_unilized': 0.52278976408643}. Best is trial 4 with value: 50547.38068520394.\u001B[0m\n",
      "\u001B[32m[I 2023-08-07 18:22:47,572]\u001B[0m Trial 6 finished with value: 157869.14664197332 and parameters: {'depot_idx_0': 2333, 'depot_idx_1': 2064, 'depot_idx_2': 1928, 'depot_idx_3': 398, 'depot_idx_4': 1314, 'depot_idx_5': 1835, 'depot_idx_6': 2162, 'depot_idx_7': 1294, 'depot_idx_8': 1610, 'depot_idx_9': 385, 'depot_idx_10': 1668, 'depot_idx_11': 2383, 'depot_idx_12': 326, 'depot_idx_13': 1307, 'depot_idx_14': 1565, 'depot_idx_15': 2106, 'depot_idx_16': 1279, 'depot_idx_17': 711, 'percentage_unilized': 0.8667526142811397}. Best is trial 4 with value: 50547.38068520394.\u001B[0m\n",
      "\u001B[32m[I 2023-08-07 18:22:48,052]\u001B[0m Trial 7 finished with value: 211319.4286472155 and parameters: {'depot_idx_0': 194, 'depot_idx_1': 1795, 'depot_idx_2': 1794, 'depot_idx_3': 1781, 'depot_idx_4': 226, 'depot_idx_5': 1678, 'depot_idx_6': 153, 'depot_idx_7': 2375, 'depot_idx_8': 2106, 'depot_idx_9': 1192, 'depot_idx_10': 666, 'depot_idx_11': 1682, 'depot_idx_12': 1586, 'depot_idx_13': 522, 'depot_idx_14': 592, 'depot_idx_15': 2408, 'depot_idx_16': 993, 'depot_idx_17': 278, 'percentage_unilized': 0.7581544328428376}. Best is trial 4 with value: 50547.38068520394.\u001B[0m\n",
      "\u001B[32m[I 2023-08-07 18:22:48,561]\u001B[0m Trial 8 finished with value: 294475.58854347677 and parameters: {'depot_idx_0': 1187, 'depot_idx_1': 501, 'depot_idx_2': 839, 'depot_idx_3': 1559, 'depot_idx_4': 1938, 'depot_idx_5': 1098, 'depot_idx_6': 266, 'depot_idx_7': 1231, 'depot_idx_8': 1556, 'depot_idx_9': 2080, 'depot_idx_10': 1147, 'depot_idx_11': 251, 'depot_idx_12': 2416, 'depot_idx_13': 1717, 'depot_idx_14': 271, 'depot_idx_15': 208, 'depot_idx_16': 2100, 'depot_idx_17': 378, 'percentage_unilized': 0.5130940077091128}. Best is trial 4 with value: 50547.38068520394.\u001B[0m\n",
      "\u001B[32m[I 2023-08-07 18:22:49,062]\u001B[0m Trial 9 finished with value: 80033.54846045299 and parameters: {'depot_idx_0': 1029, 'depot_idx_1': 236, 'depot_idx_2': 960, 'depot_idx_3': 1970, 'depot_idx_4': 1989, 'depot_idx_5': 2066, 'depot_idx_6': 1143, 'depot_idx_7': 1841, 'depot_idx_8': 1566, 'depot_idx_9': 2125, 'depot_idx_10': 2017, 'depot_idx_11': 252, 'depot_idx_12': 1296, 'depot_idx_13': 2386, 'depot_idx_14': 683, 'depot_idx_15': 1972, 'depot_idx_16': 490, 'depot_idx_17': 349, 'percentage_unilized': 0.957312662283188}. Best is trial 4 with value: 50547.38068520394.\u001B[0m\n",
      "\u001B[32m[I 2023-08-07 18:22:49,562]\u001B[0m Trial 10 finished with value: 139691.9532074989 and parameters: {'depot_idx_0': 1811, 'depot_idx_1': 2373, 'depot_idx_2': 1433, 'depot_idx_3': 1134, 'depot_idx_4': 2400, 'depot_idx_5': 766, 'depot_idx_6': 920, 'depot_idx_7': 2393, 'depot_idx_8': 2367, 'depot_idx_9': 985, 'depot_idx_10': 53, 'depot_idx_11': 984, 'depot_idx_12': 2388, 'depot_idx_13': 2413, 'depot_idx_14': 2417, 'depot_idx_15': 1524, 'depot_idx_16': 2411, 'depot_idx_17': 2113, 'percentage_unilized': 0.8659463814046403}. Best is trial 4 with value: 50547.38068520394.\u001B[0m\n",
      "\u001B[32m[I 2023-08-07 18:22:50,112]\u001B[0m Trial 11 finished with value: 146842.06551206685 and parameters: {'depot_idx_0': 1747, 'depot_idx_1': 1138, 'depot_idx_2': 1545, 'depot_idx_3': 2329, 'depot_idx_4': 2382, 'depot_idx_5': 823, 'depot_idx_6': 872, 'depot_idx_7': 2417, 'depot_idx_8': 2415, 'depot_idx_9': 925, 'depot_idx_10': 27, 'depot_idx_11': 1007, 'depot_idx_12': 2342, 'depot_idx_13': 2396, 'depot_idx_14': 2170, 'depot_idx_15': 1431, 'depot_idx_16': 2399, 'depot_idx_17': 2303, 'percentage_unilized': 0.8674867694823671}. Best is trial 4 with value: 50547.38068520394.\u001B[0m\n",
      "\u001B[32m[I 2023-08-07 18:22:50,689]\u001B[0m Trial 12 finished with value: 122463.13877865317 and parameters: {'depot_idx_0': 1689, 'depot_idx_1': 2386, 'depot_idx_2': 1393, 'depot_idx_3': 1199, 'depot_idx_4': 2369, 'depot_idx_5': 675, 'depot_idx_6': 849, 'depot_idx_7': 1991, 'depot_idx_8': 2275, 'depot_idx_9': 1681, 'depot_idx_10': 41, 'depot_idx_11': 1017, 'depot_idx_12': 1917, 'depot_idx_13': 1865, 'depot_idx_14': 2372, 'depot_idx_15': 1623, 'depot_idx_16': 2009, 'depot_idx_17': 2251, 'percentage_unilized': 0.8939899563025335}. Best is trial 4 with value: 50547.38068520394.\u001B[0m\n",
      "\u001B[32m[I 2023-08-07 18:22:51,229]\u001B[0m Trial 13 finished with value: 95589.9144306278 and parameters: {'depot_idx_0': 1350, 'depot_idx_1': 2398, 'depot_idx_2': 2379, 'depot_idx_3': 1186, 'depot_idx_4': 1579, 'depot_idx_5': 446, 'depot_idx_6': 751, 'depot_idx_7': 1985, 'depot_idx_8': 140, 'depot_idx_9': 1724, 'depot_idx_10': 489, 'depot_idx_11': 1347, 'depot_idx_12': 1805, 'depot_idx_13': 1877, 'depot_idx_14': 1304, 'depot_idx_15': 1677, 'depot_idx_16': 1802, 'depot_idx_17': 1688, 'percentage_unilized': 0.9343636253980627}. Best is trial 4 with value: 50547.38068520394.\u001B[0m\n",
      "\u001B[32m[I 2023-08-07 18:22:51,749]\u001B[0m Trial 14 finished with value: 180201.16387748724 and parameters: {'depot_idx_0': 1571, 'depot_idx_1': 1182, 'depot_idx_2': 1493, 'depot_idx_3': 834, 'depot_idx_4': 1578, 'depot_idx_5': 74, 'depot_idx_6': 1861, 'depot_idx_7': 105, 'depot_idx_8': 2030, 'depot_idx_9': 1683, 'depot_idx_10': 268, 'depot_idx_11': 755, 'depot_idx_12': 1902, 'depot_idx_13': 1918, 'depot_idx_14': 1317, 'depot_idx_15': 862, 'depot_idx_16': 1935, 'depot_idx_17': 1699, 'percentage_unilized': 0.794826746877694}. Best is trial 4 with value: 50547.38068520394.\u001B[0m\n",
      "\u001B[32m[I 2023-08-07 18:22:52,277]\u001B[0m Trial 15 finished with value: 92021.5779413639 and parameters: {'depot_idx_0': 644, 'depot_idx_1': 1524, 'depot_idx_2': 1224, 'depot_idx_3': 427, 'depot_idx_4': 1081, 'depot_idx_5': 994, 'depot_idx_6': 645, 'depot_idx_7': 2084, 'depot_idx_8': 1925, 'depot_idx_9': 4, 'depot_idx_10': 934, 'depot_idx_11': 1395, 'depot_idx_12': 2054, 'depot_idx_13': 2021, 'depot_idx_14': 1005, 'depot_idx_15': 1752, 'depot_idx_16': 2129, 'depot_idx_17': 858, 'percentage_unilized': 0.9246383249442018}. Best is trial 4 with value: 50547.38068520394.\u001B[0m\n",
      "\u001B[32m[I 2023-08-07 18:22:52,782]\u001B[0m Trial 16 finished with value: 41809.97025185542 and parameters: {'depot_idx_0': 2036, 'depot_idx_1': 2063, 'depot_idx_2': 1829, 'depot_idx_3': 1477, 'depot_idx_4': 2218, 'depot_idx_5': 546, 'depot_idx_6': 21, 'depot_idx_7': 1618, 'depot_idx_8': 2216, 'depot_idx_9': 1596, 'depot_idx_10': 310, 'depot_idx_11': 713, 'depot_idx_12': 966, 'depot_idx_13': 1566, 'depot_idx_14': 2379, 'depot_idx_15': 1085, 'depot_idx_16': 20, 'depot_idx_17': 35, 'percentage_unilized': 0.9995531136579171}. Best is trial 16 with value: 41809.97025185542.\u001B[0m\n",
      "\u001B[32m[I 2023-08-07 18:22:53,277]\u001B[0m Trial 17 finished with value: 179902.17263791306 and parameters: {'depot_idx_0': 1507, 'depot_idx_1': 1032, 'depot_idx_2': 371, 'depot_idx_3': 9, 'depot_idx_4': 1795, 'depot_idx_5': 2391, 'depot_idx_6': 2390, 'depot_idx_7': 864, 'depot_idx_8': 1214, 'depot_idx_9': 778, 'depot_idx_10': 847, 'depot_idx_11': 1631, 'depot_idx_12': 2057, 'depot_idx_13': 2120, 'depot_idx_14': 1010, 'depot_idx_15': 1319, 'depot_idx_16': 1560, 'depot_idx_17': 1716, 'percentage_unilized': 0.8200493772865249}. Best is trial 16 with value: 41809.97025185542.\u001B[0m\n",
      "\u001B[32m[I 2023-08-07 18:22:53,782]\u001B[0m Trial 18 finished with value: 129934.34244434105 and parameters: {'depot_idx_0': 2037, 'depot_idx_1': 793, 'depot_idx_2': 1209, 'depot_idx_3': 1060, 'depot_idx_4': 1305, 'depot_idx_5': 0, 'depot_idx_6': 1188, 'depot_idx_7': 1634, 'depot_idx_8': 1730, 'depot_idx_9': 1959, 'depot_idx_10': 335, 'depot_idx_11': 1113, 'depot_idx_12': 1722, 'depot_idx_13': 1538, 'depot_idx_14': 2097, 'depot_idx_15': 1796, 'depot_idx_16': 2039, 'depot_idx_17': 1956, 'percentage_unilized': 0.8943175726151185}. Best is trial 16 with value: 41809.97025185542.\u001B[0m\n",
      "\u001B[32m[I 2023-08-07 18:22:54,267]\u001B[0m Trial 19 finished with value: 228110.24624644182 and parameters: {'depot_idx_0': 746, 'depot_idx_1': 1561, 'depot_idx_2': 1635, 'depot_idx_3': 690, 'depot_idx_4': 2252, 'depot_idx_5': 1508, 'depot_idx_6': 546, 'depot_idx_7': 2114, 'depot_idx_8': 915, 'depot_idx_9': 1479, 'depot_idx_10': 66, 'depot_idx_11': 772, 'depot_idx_12': 841, 'depot_idx_13': 2129, 'depot_idx_14': 1495, 'depot_idx_15': 1099, 'depot_idx_16': 636, 'depot_idx_17': 2375, 'percentage_unilized': 0.7071557969092357}. Best is trial 16 with value: 41809.97025185542.\u001B[0m\n",
      "\u001B[32m[I 2023-08-07 18:22:54,767]\u001B[0m Trial 20 finished with value: 103011.21580614673 and parameters: {'depot_idx_0': 1798, 'depot_idx_1': 2153, 'depot_idx_2': 2108, 'depot_idx_3': 1320, 'depot_idx_4': 81, 'depot_idx_5': 901, 'depot_idx_6': 1505, 'depot_idx_7': 693, 'depot_idx_8': 2239, 'depot_idx_9': 1007, 'depot_idx_10': 827, 'depot_idx_11': 556, 'depot_idx_12': 2128, 'depot_idx_13': 1713, 'depot_idx_14': 2136, 'depot_idx_15': 2401, 'depot_idx_16': 1760, 'depot_idx_17': 1023, 'percentage_unilized': 0.9260372781480581}. Best is trial 16 with value: 41809.97025185542.\u001B[0m\n",
      "\u001B[32m[I 2023-08-07 18:22:55,258]\u001B[0m Trial 21 finished with value: 108355.72321915728 and parameters: {'depot_idx_0': 1786, 'depot_idx_1': 2084, 'depot_idx_2': 2068, 'depot_idx_3': 1372, 'depot_idx_4': 44, 'depot_idx_5': 924, 'depot_idx_6': 1442, 'depot_idx_7': 659, 'depot_idx_8': 2198, 'depot_idx_9': 1081, 'depot_idx_10': 939, 'depot_idx_11': 544, 'depot_idx_12': 2162, 'depot_idx_13': 1702, 'depot_idx_14': 2154, 'depot_idx_15': 2301, 'depot_idx_16': 1795, 'depot_idx_17': 989, 'percentage_unilized': 0.9112926010045096}. Best is trial 16 with value: 41809.97025185542.\u001B[0m\n",
      "\u001B[32m[I 2023-08-07 18:22:55,762]\u001B[0m Trial 22 finished with value: 83724.46514153981 and parameters: {'depot_idx_0': 1664, 'depot_idx_1': 2214, 'depot_idx_2': 2188, 'depot_idx_3': 1695, 'depot_idx_4': 17, 'depot_idx_5': 972, 'depot_idx_6': 1537, 'depot_idx_7': 578, 'depot_idx_8': 1829, 'depot_idx_9': 1190, 'depot_idx_10': 1011, 'depot_idx_11': 617, 'depot_idx_12': 1583, 'depot_idx_13': 1673, 'depot_idx_14': 2183, 'depot_idx_15': 2280, 'depot_idx_16': 1769, 'depot_idx_17': 1003, 'percentage_unilized': 0.9531207694077077}. Best is trial 16 with value: 41809.97025185542.\u001B[0m\n",
      "\u001B[32m[I 2023-08-07 18:22:56,272]\u001B[0m Trial 23 finished with value: 166902.6452536742 and parameters: {'depot_idx_0': 1352, 'depot_idx_1': 2018, 'depot_idx_2': 2066, 'depot_idx_3': 1320, 'depot_idx_4': 414, 'depot_idx_5': 862, 'depot_idx_6': 1735, 'depot_idx_7': 635, 'depot_idx_8': 2117, 'depot_idx_9': 563, 'depot_idx_10': 726, 'depot_idx_11': 50, 'depot_idx_12': 2086, 'depot_idx_13': 1446, 'depot_idx_14': 1973, 'depot_idx_15': 2348, 'depot_idx_16': 1406, 'depot_idx_17': 1349, 'percentage_unilized': 0.821279387508171}. Best is trial 16 with value: 41809.97025185542.\u001B[0m\n",
      "\u001B[32m[I 2023-08-07 18:22:56,768]\u001B[0m Trial 24 finished with value: 112976.16303743228 and parameters: {'depot_idx_0': 1918, 'depot_idx_1': 2208, 'depot_idx_2': 2378, 'depot_idx_3': 2049, 'depot_idx_4': 657, 'depot_idx_5': 1218, 'depot_idx_6': 1348, 'depot_idx_7': 240, 'depot_idx_8': 1406, 'depot_idx_9': 1838, 'depot_idx_10': 1776, 'depot_idx_11': 507, 'depot_idx_12': 1897, 'depot_idx_13': 1056, 'depot_idx_14': 2263, 'depot_idx_15': 1938, 'depot_idx_16': 1629, 'depot_idx_17': 1508, 'percentage_unilized': 0.9147806498724292}. Best is trial 16 with value: 41809.97025185542.\u001B[0m\n",
      "\u001B[32m[I 2023-08-07 18:22:57,252]\u001B[0m Trial 25 finished with value: 69498.91210192748 and parameters: {'depot_idx_0': 1891, 'depot_idx_1': 1827, 'depot_idx_2': 2370, 'depot_idx_3': 2134, 'depot_idx_4': 707, 'depot_idx_5': 1269, 'depot_idx_6': 1945, 'depot_idx_7': 99, 'depot_idx_8': 1388, 'depot_idx_9': 1071, 'depot_idx_10': 1656, 'depot_idx_11': 531, 'depot_idx_12': 2192, 'depot_idx_13': 981, 'depot_idx_14': 1747, 'depot_idx_15': 1955, 'depot_idx_16': 1578, 'depot_idx_17': 1532, 'percentage_unilized': 0.9638640657700885}. Best is trial 16 with value: 41809.97025185542.\u001B[0m\n",
      "\u001B[32m[I 2023-08-07 18:22:57,777]\u001B[0m Trial 26 finished with value: 112829.55275639772 and parameters: {'depot_idx_0': 1453, 'depot_idx_1': 2184, 'depot_idx_2': 2042, 'depot_idx_3': 1928, 'depot_idx_4': 52, 'depot_idx_5': 1546, 'depot_idx_6': 1428, 'depot_idx_7': 348, 'depot_idx_8': 37, 'depot_idx_9': 1476, 'depot_idx_10': 1870, 'depot_idx_11': 145, 'depot_idx_12': 1563, 'depot_idx_13': 1127, 'depot_idx_14': 2187, 'depot_idx_15': 2254, 'depot_idx_16': 2265, 'depot_idx_17': 1117, 'percentage_unilized': 0.9226611122905175}. Best is trial 16 with value: 41809.97025185542.\u001B[0m\n",
      "\u001B[32m[I 2023-08-07 18:22:58,327]\u001B[0m Trial 27 finished with value: 62940.88721880273 and parameters: {'depot_idx_0': 1337, 'depot_idx_1': 2183, 'depot_idx_2': 2028, 'depot_idx_3': 1803, 'depot_idx_4': 17, 'depot_idx_5': 1567, 'depot_idx_6': 1060, 'depot_idx_7': 387, 'depot_idx_8': 161, 'depot_idx_9': 1430, 'depot_idx_10': 2344, 'depot_idx_11': 51, 'depot_idx_12': 1531, 'depot_idx_13': 842, 'depot_idx_14': 1962, 'depot_idx_15': 2181, 'depot_idx_16': 2263, 'depot_idx_17': 783, 'percentage_unilized': 0.9734537784173941}. Best is trial 16 with value: 41809.97025185542.\u001B[0m\n",
      "\u001B[32m[I 2023-08-07 18:22:58,888]\u001B[0m Trial 28 finished with value: 107181.85544374703 and parameters: {'depot_idx_0': 2149, 'depot_idx_1': 1318, 'depot_idx_2': 1730, 'depot_idx_3': 2375, 'depot_idx_4': 266, 'depot_idx_5': 1885, 'depot_idx_6': 1421, 'depot_idx_7': 787, 'depot_idx_8': 547, 'depot_idx_9': 703, 'depot_idx_10': 1173, 'depot_idx_11': 154, 'depot_idx_12': 1737, 'depot_idx_13': 1227, 'depot_idx_14': 2083, 'depot_idx_15': 2228, 'depot_idx_16': 2252, 'depot_idx_17': 1114, 'percentage_unilized': 0.9308019046467155}. Best is trial 16 with value: 41809.97025185542.\u001B[0m\n",
      "\u001B[32m[I 2023-08-07 18:22:59,414]\u001B[0m Trial 29 finished with value: 47259.688648400785 and parameters: {'depot_idx_0': 2160, 'depot_idx_1': 1389, 'depot_idx_2': 1685, 'depot_idx_3': 1607, 'depot_idx_4': 297, 'depot_idx_5': 2216, 'depot_idx_6': 1678, 'depot_idx_7': 821, 'depot_idx_8': 922, 'depot_idx_9': 780, 'depot_idx_10': 1119, 'depot_idx_11': 902, 'depot_idx_12': 2200, 'depot_idx_13': 1325, 'depot_idx_14': 1719, 'depot_idx_15': 2379, 'depot_idx_16': 1877, 'depot_idx_17': 981, 'percentage_unilized': 0.9900909702189823}. Best is trial 16 with value: 41809.97025185542.\u001B[0m\n",
      "\u001B[32m[I 2023-08-07 18:22:59,937]\u001B[0m Trial 30 finished with value: 76123.19445771973 and parameters: {'depot_idx_0': 2172, 'depot_idx_1': 1703, 'depot_idx_2': 2215, 'depot_idx_3': 2415, 'depot_idx_4': 217, 'depot_idx_5': 1809, 'depot_idx_6': 2015, 'depot_idx_7': 788, 'depot_idx_8': 414, 'depot_idx_9': 379, 'depot_idx_10': 1348, 'depot_idx_11': 507, 'depot_idx_12': 1740, 'depot_idx_13': 1665, 'depot_idx_14': 2028, 'depot_idx_15': 1839, 'depot_idx_16': 2189, 'depot_idx_17': 1106, 'percentage_unilized': 0.9595274971219296}. Best is trial 16 with value: 41809.97025185542.\u001B[0m\n",
      "\u001B[32m[I 2023-08-07 18:23:00,483]\u001B[0m Trial 31 finished with value: 100844.20239393387 and parameters: {'depot_idx_0': 1515, 'depot_idx_1': 1938, 'depot_idx_2': 1894, 'depot_idx_3': 2197, 'depot_idx_4': 134, 'depot_idx_5': 1444, 'depot_idx_6': 1417, 'depot_idx_7': 1015, 'depot_idx_8': 74, 'depot_idx_9': 1362, 'depot_idx_10': 2093, 'depot_idx_11': 140, 'depot_idx_12': 1473, 'depot_idx_13': 1190, 'depot_idx_14': 2238, 'depot_idx_15': 2216, 'depot_idx_16': 2287, 'depot_idx_17': 1116, 'percentage_unilized': 0.9365937763474389}. Best is trial 16 with value: 41809.97025185542.\u001B[0m\n",
      "\u001B[32m[I 2023-08-07 18:23:01,127]\u001B[0m Trial 32 finished with value: 94295.20726215704 and parameters: {'depot_idx_0': 2213, 'depot_idx_1': 1912, 'depot_idx_2': 1841, 'depot_idx_3': 2239, 'depot_idx_4': 343, 'depot_idx_5': 1439, 'depot_idx_6': 1567, 'depot_idx_7': 1003, 'depot_idx_8': 315, 'depot_idx_9': 761, 'depot_idx_10': 1042, 'depot_idx_11': 199, 'depot_idx_12': 1033, 'depot_idx_13': 742, 'depot_idx_14': 2265, 'depot_idx_15': 2107, 'depot_idx_16': 2273, 'depot_idx_17': 624, 'percentage_unilized': 0.9389172384305797}. Best is trial 16 with value: 41809.97025185542.\u001B[0m\n",
      "\u001B[32m[I 2023-08-07 18:23:01,678]\u001B[0m Trial 33 finished with value: 120737.49257437506 and parameters: {'depot_idx_0': 1828, 'depot_idx_1': 1409, 'depot_idx_2': 2206, 'depot_idx_3': 2108, 'depot_idx_4': 166, 'depot_idx_5': 1089, 'depot_idx_6': 1244, 'depot_idx_7': 1010, 'depot_idx_8': 583, 'depot_idx_9': 613, 'depot_idx_10': 825, 'depot_idx_11': 357, 'depot_idx_12': 1319, 'depot_idx_13': 1435, 'depot_idx_14': 1841, 'depot_idx_15': 2192, 'depot_idx_16': 1776, 'depot_idx_17': 883, 'percentage_unilized': 0.9140316397819672}. Best is trial 16 with value: 41809.97025185542.\u001B[0m\n",
      "\u001B[32m[I 2023-08-07 18:23:02,210]\u001B[0m Trial 34 finished with value: 153327.5368838095 and parameters: {'depot_idx_0': 1578, 'depot_idx_1': 917, 'depot_idx_2': 1950, 'depot_idx_3': 1358, 'depot_idx_4': 484, 'depot_idx_5': 1888, 'depot_idx_6': 1485, 'depot_idx_7': 704, 'depot_idx_8': 801, 'depot_idx_9': 1091, 'depot_idx_10': 1247, 'depot_idx_11': 398, 'depot_idx_12': 1393, 'depot_idx_13': 36, 'depot_idx_14': 2084, 'depot_idx_15': 2047, 'depot_idx_16': 1435, 'depot_idx_17': 1186, 'percentage_unilized': 0.8514668721411789}. Best is trial 16 with value: 41809.97025185542.\u001B[0m\n",
      "\u001B[32m[I 2023-08-07 18:23:02,707]\u001B[0m Trial 35 finished with value: 131337.98159144443 and parameters: {'depot_idx_0': 1946, 'depot_idx_1': 1939, 'depot_idx_2': 1684, 'depot_idx_3': 1903, 'depot_idx_4': 898, 'depot_idx_5': 1376, 'depot_idx_6': 1713, 'depot_idx_7': 465, 'depot_idx_8': 691, 'depot_idx_9': 1315, 'depot_idx_10': 2196, 'depot_idx_11': 125, 'depot_idx_12': 1163, 'depot_idx_13': 1206, 'depot_idx_14': 1857, 'depot_idx_15': 2251, 'depot_idx_16': 1898, 'depot_idx_17': 1429, 'percentage_unilized': 0.8926946781678178}. Best is trial 16 with value: 41809.97025185542.\u001B[0m\n",
      "\u001B[32m[I 2023-08-07 18:23:03,207]\u001B[0m Trial 36 finished with value: 61295.542535907705 and parameters: {'depot_idx_0': 1156, 'depot_idx_1': 1769, 'depot_idx_2': 2084, 'depot_idx_3': 1014, 'depot_idx_4': 144, 'depot_idx_5': 1977, 'depot_idx_6': 1322, 'depot_idx_7': 1413, 'depot_idx_8': 275, 'depot_idx_9': 872, 'depot_idx_10': 1460, 'depot_idx_11': 26, 'depot_idx_12': 2028, 'depot_idx_13': 427, 'depot_idx_14': 1641, 'depot_idx_15': 21, 'depot_idx_16': 2378, 'depot_idx_17': 1265, 'percentage_unilized': 0.9755920829039831}. Best is trial 16 with value: 41809.97025185542.\u001B[0m\n",
      "\u001B[32m[I 2023-08-07 18:23:03,751]\u001B[0m Trial 37 finished with value: 80900.741873226 and parameters: {'depot_idx_0': 2097, 'depot_idx_1': 1622, 'depot_idx_2': 22, 'depot_idx_3': 2236, 'depot_idx_4': 590, 'depot_idx_5': 1671, 'depot_idx_6': 1083, 'depot_idx_7': 1073, 'depot_idx_8': 468, 'depot_idx_9': 452, 'depot_idx_10': 1277, 'depot_idx_11': 621, 'depot_idx_12': 1727, 'depot_idx_13': 859, 'depot_idx_14': 1860, 'depot_idx_15': 564, 'depot_idx_16': 2155, 'depot_idx_17': 950, 'percentage_unilized': 0.9512736181639155}. Best is trial 16 with value: 41809.97025185542.\u001B[0m\n",
      "\u001B[32m[I 2023-08-07 18:23:04,347]\u001B[0m Trial 38 finished with value: 254221.515728467 and parameters: {'depot_idx_0': 2286, 'depot_idx_1': 1340, 'depot_idx_2': 1878, 'depot_idx_3': 1455, 'depot_idx_4': 776, 'depot_idx_5': 1171, 'depot_idx_6': 1790, 'depot_idx_7': 909, 'depot_idx_8': 321, 'depot_idx_9': 1169, 'depot_idx_10': 595, 'depot_idx_11': 324, 'depot_idx_12': 2207, 'depot_idx_13': 1211, 'depot_idx_14': 1441, 'depot_idx_15': 2395, 'depot_idx_16': 1725, 'depot_idx_17': 518, 'percentage_unilized': 0.6369631733815517}. Best is trial 16 with value: 41809.97025185542.\u001B[0m\n",
      "\u001B[32m[I 2023-08-07 18:23:04,942]\u001B[0m Trial 39 finished with value: 124347.15673163286 and parameters: {'depot_idx_0': 1680, 'depot_idx_1': 1939, 'depot_idx_2': 1711, 'depot_idx_3': 2413, 'depot_idx_4': 400, 'depot_idx_5': 929, 'depot_idx_6': 1575, 'depot_idx_7': 1119, 'depot_idx_8': 1078, 'depot_idx_9': 1305, 'depot_idx_10': 1564, 'depot_idx_11': 461, 'depot_idx_12': 1487, 'depot_idx_13': 553, 'depot_idx_14': 2301, 'depot_idx_15': 1860, 'depot_idx_16': 1298, 'depot_idx_17': 703, 'percentage_unilized': 0.8979892105052407}. Best is trial 16 with value: 41809.97025185542.\u001B[0m\n",
      "\u001B[32m[I 2023-08-07 18:23:05,509]\u001B[0m Trial 40 finished with value: 100878.26172066118 and parameters: {'depot_idx_0': 2378, 'depot_idx_1': 748, 'depot_idx_2': 2267, 'depot_idx_3': 480, 'depot_idx_4': 145, 'depot_idx_5': 409, 'depot_idx_6': 2098, 'depot_idx_7': 689, 'depot_idx_8': 2009, 'depot_idx_9': 1043, 'depot_idx_10': 930, 'depot_idx_11': 280, 'depot_idx_12': 1823, 'depot_idx_13': 1796, 'depot_idx_14': 2099, 'depot_idx_15': 2105, 'depot_idx_16': 2005, 'depot_idx_17': 1201, 'percentage_unilized': 0.936993125692896}. Best is trial 16 with value: 41809.97025185542.\u001B[0m\n",
      "\u001B[32m[I 2023-08-07 18:23:06,099]\u001B[0m Trial 41 finished with value: 75166.38465646173 and parameters: {'depot_idx_0': 2024, 'depot_idx_1': 688, 'depot_idx_2': 2192, 'depot_idx_3': 292, 'depot_idx_4': 134, 'depot_idx_5': 290, 'depot_idx_6': 2280, 'depot_idx_7': 750, 'depot_idx_8': 1995, 'depot_idx_9': 1042, 'depot_idx_10': 868, 'depot_idx_11': 253, 'depot_idx_12': 1833, 'depot_idx_13': 1762, 'depot_idx_14': 2122, 'depot_idx_15': 2089, 'depot_idx_16': 2024, 'depot_idx_17': 1177, 'percentage_unilized': 0.9366254427005061}. Best is trial 16 with value: 41809.97025185542.\u001B[0m\n",
      "\u001B[32m[I 2023-08-07 18:23:06,712]\u001B[0m Trial 42 finished with value: 40887.75197571232 and parameters: {'depot_idx_0': 2364, 'depot_idx_1': 430, 'depot_idx_2': 1951, 'depot_idx_3': 610, 'depot_idx_4': 283, 'depot_idx_5': 382, 'depot_idx_6': 2128, 'depot_idx_7': 580, 'depot_idx_8': 1775, 'depot_idx_9': 890, 'depot_idx_10': 752, 'depot_idx_11': 2110, 'depot_idx_12': 1711, 'depot_idx_13': 2216, 'depot_idx_14': 2004, 'depot_idx_15': 2186, 'depot_idx_16': 1916, 'depot_idx_17': 1064, 'percentage_unilized': 0.9973849343420684}. Best is trial 42 with value: 40887.75197571232.\u001B[0m\n",
      "\u001B[32m[I 2023-08-07 18:23:07,277]\u001B[0m Trial 43 finished with value: 37373.73978040606 and parameters: {'depot_idx_0': 2279, 'depot_idx_1': 681, 'depot_idx_2': 2300, 'depot_idx_3': 938, 'depot_idx_4': 504, 'depot_idx_5': 725, 'depot_idx_6': 990, 'depot_idx_7': 925, 'depot_idx_8': 2167, 'depot_idx_9': 676, 'depot_idx_10': 1008, 'depot_idx_11': 1, 'depot_idx_12': 2015, 'depot_idx_13': 1491, 'depot_idx_14': 2247, 'depot_idx_15': 2015, 'depot_idx_16': 2278, 'depot_idx_17': 1333, 'percentage_unilized': 0.9743755970211792}. Best is trial 43 with value: 37373.73978040606.\u001B[0m\n",
      "\u001B[32m[I 2023-08-07 18:23:07,808]\u001B[0m Trial 44 finished with value: 147829.16202169395 and parameters: {'depot_idx_0': 2404, 'depot_idx_1': 17, 'depot_idx_2': 2103, 'depot_idx_3': 449, 'depot_idx_4': 126, 'depot_idx_5': 1096, 'depot_idx_6': 1287, 'depot_idx_7': 680, 'depot_idx_8': 2286, 'depot_idx_9': 1384, 'depot_idx_10': 544, 'depot_idx_11': 328, 'depot_idx_12': 2298, 'depot_idx_13': 1776, 'depot_idx_14': 1869, 'depot_idx_15': 2252, 'depot_idx_16': 2101, 'depot_idx_17': 843, 'percentage_unilized': 0.8748594463461666}. Best is trial 43 with value: 37373.73978040606.\u001B[0m\n",
      "\u001B[32m[I 2023-08-07 18:23:08,347]\u001B[0m Trial 45 finished with value: 99023.8157228301 and parameters: {'depot_idx_0': 1802, 'depot_idx_1': 1290, 'depot_idx_2': 2264, 'depot_idx_3': 1258, 'depot_idx_4': 274, 'depot_idx_5': 192, 'depot_idx_6': 1436, 'depot_idx_7': 1193, 'depot_idx_8': 2021, 'depot_idx_9': 175, 'depot_idx_10': 1111, 'depot_idx_11': 844, 'depot_idx_12': 1420, 'depot_idx_13': 1998, 'depot_idx_14': 2401, 'depot_idx_15': 2392, 'depot_idx_16': 1077, 'depot_idx_17': 1185, 'percentage_unilized': 0.9393237928600127}. Best is trial 43 with value: 37373.73978040606.\u001B[0m\n",
      "\u001B[32m[I 2023-08-07 18:23:08,907]\u001B[0m Trial 46 finished with value: 105785.95253311907 and parameters: {'depot_idx_0': 2122, 'depot_idx_1': 1300, 'depot_idx_2': 2278, 'depot_idx_3': 1260, 'depot_idx_4': 381, 'depot_idx_5': 155, 'depot_idx_6': 1898, 'depot_idx_7': 1378, 'depot_idx_8': 17, 'depot_idx_9': 62, 'depot_idx_10': 1145, 'depot_idx_11': 851, 'depot_idx_12': 1420, 'depot_idx_13': 1944, 'depot_idx_14': 2415, 'depot_idx_15': 2404, 'depot_idx_16': 1019, 'depot_idx_17': 1247, 'percentage_unilized': 0.9344821085471876}. Best is trial 43 with value: 37373.73978040606.\u001B[0m\n",
      "\u001B[32m[I 2023-08-07 18:23:09,453]\u001B[0m Trial 47 finished with value: 89179.40332063475 and parameters: {'depot_idx_0': 1942, 'depot_idx_1': 1039, 'depot_idx_2': 2311, 'depot_idx_3': 1265, 'depot_idx_4': 400, 'depot_idx_5': 517, 'depot_idx_6': 2101, 'depot_idx_7': 1397, 'depot_idx_8': 23, 'depot_idx_9': 118, 'depot_idx_10': 2123, 'depot_idx_11': 846, 'depot_idx_12': 1413, 'depot_idx_13': 2007, 'depot_idx_14': 2412, 'depot_idx_15': 2387, 'depot_idx_16': 1016, 'depot_idx_17': 1572, 'percentage_unilized': 0.9456605842266607}. Best is trial 43 with value: 37373.73978040606.\u001B[0m\n",
      "\u001B[32m[I 2023-08-07 18:23:10,002]\u001B[0m Trial 48 finished with value: 148297.3580319294 and parameters: {'depot_idx_0': 1610, 'depot_idx_1': 878, 'depot_idx_2': 2278, 'depot_idx_3': 716, 'depot_idx_4': 856, 'depot_idx_5': 174, 'depot_idx_6': 1891, 'depot_idx_7': 1157, 'depot_idx_8': 1660, 'depot_idx_9': 206, 'depot_idx_10': 1319, 'depot_idx_11': 1238, 'depot_idx_12': 1299, 'depot_idx_13': 1884, 'depot_idx_14': 2297, 'depot_idx_15': 2124, 'depot_idx_16': 820, 'depot_idx_17': 1250, 'percentage_unilized': 0.8786709260808933}. Best is trial 43 with value: 37373.73978040606.\u001B[0m\n",
      "\u001B[32m[I 2023-08-07 18:23:10,542]\u001B[0m Trial 49 finished with value: 156917.86852663936 and parameters: {'depot_idx_0': 1459, 'depot_idx_1': 1221, 'depot_idx_2': 653, 'depot_idx_3': 1105, 'depot_idx_4': 1100, 'depot_idx_5': 129, 'depot_idx_6': 2008, 'depot_idx_7': 1335, 'depot_idx_8': 2032, 'depot_idx_9': 36, 'depot_idx_10': 1124, 'depot_idx_11': 659, 'depot_idx_12': 811, 'depot_idx_13': 2146, 'depot_idx_14': 109, 'depot_idx_15': 2403, 'depot_idx_16': 1155, 'depot_idx_17': 1417, 'percentage_unilized': 0.8466962815273325}. Best is trial 43 with value: 37373.73978040606.\u001B[0m\n",
      "\u001B[32m[I 2023-08-07 18:23:11,172]\u001B[0m Trial 50 finished with value: 58318.83794550174 and parameters: {'depot_idx_0': 327, 'depot_idx_1': 1073, 'depot_idx_2': 1970, 'depot_idx_3': 1577, 'depot_idx_4': 585, 'depot_idx_5': 243, 'depot_idx_6': 2236, 'depot_idx_7': 1485, 'depot_idx_8': 141, 'depot_idx_9': 250, 'depot_idx_10': 1398, 'depot_idx_11': 849, 'depot_idx_12': 1223, 'depot_idx_13': 2297, 'depot_idx_14': 566, 'depot_idx_15': 1933, 'depot_idx_16': 811, 'depot_idx_17': 1784, 'percentage_unilized': 0.9800555219839143}. Best is trial 43 with value: 37373.73978040606.\u001B[0m\n",
      "\u001B[32m[I 2023-08-07 18:23:11,854]\u001B[0m Trial 51 finished with value: 103106.92931811456 and parameters: {'depot_idx_0': 2230, 'depot_idx_1': 1288, 'depot_idx_2': 2416, 'depot_idx_3': 886, 'depot_idx_4': 242, 'depot_idx_5': 369, 'depot_idx_6': 1813, 'depot_idx_7': 1236, 'depot_idx_8': 228, 'depot_idx_9': 479, 'depot_idx_10': 1192, 'depot_idx_11': 215, 'depot_idx_12': 1629, 'depot_idx_13': 1990, 'depot_idx_14': 2333, 'depot_idx_15': 2174, 'depot_idx_16': 1022, 'depot_idx_17': 1111, 'percentage_unilized': 0.9346030149220768}. Best is trial 43 with value: 37373.73978040606.\u001B[0m\n",
      "\u001B[32m[I 2023-08-07 18:23:12,500]\u001B[0m Trial 52 finished with value: 121549.52895196665 and parameters: {'depot_idx_0': 2257, 'depot_idx_1': 1283, 'depot_idx_2': 2394, 'depot_idx_3': 951, 'depot_idx_4': 193, 'depot_idx_5': 335, 'depot_idx_6': 1831, 'depot_idx_7': 1768, 'depot_idx_8': 242, 'depot_idx_9': 150, 'depot_idx_10': 1066, 'depot_idx_11': 253, 'depot_idx_12': 1456, 'depot_idx_13': 1598, 'depot_idx_14': 2348, 'depot_idx_15': 2147, 'depot_idx_16': 1021, 'depot_idx_17': 1207, 'percentage_unilized': 0.9116498129591828}. Best is trial 43 with value: 37373.73978040606.\u001B[0m\n",
      "\u001B[32m[I 2023-08-07 18:23:13,137]\u001B[0m Trial 53 finished with value: 94141.63336635122 and parameters: {'depot_idx_0': 2091, 'depot_idx_1': 1516, 'depot_idx_2': 2274, 'depot_idx_3': 534, 'depot_idx_4': 340, 'depot_idx_5': 416, 'depot_idx_6': 1660, 'depot_idx_7': 1165, 'depot_idx_8': 2350, 'depot_idx_9': 454, 'depot_idx_10': 1232, 'depot_idx_11': 1087, 'depot_idx_12': 1639, 'depot_idx_13': 1954, 'depot_idx_14': 2344, 'depot_idx_15': 2314, 'depot_idx_16': 894, 'depot_idx_17': 1299, 'percentage_unilized': 0.9453831805279037}. Best is trial 43 with value: 37373.73978040606.\u001B[0m\n",
      "\u001B[32m[I 2023-08-07 18:23:13,742]\u001B[0m Trial 54 finished with value: 81387.85894519892 and parameters: {'depot_idx_0': 1851, 'depot_idx_1': 930, 'depot_idx_2': 2182, 'depot_idx_3': 824, 'depot_idx_4': 447, 'depot_idx_5': 26, 'depot_idx_6': 2013, 'depot_idx_7': 1509, 'depot_idx_8': 1928, 'depot_idx_9': 316, 'depot_idx_10': 932, 'depot_idx_11': 420, 'depot_idx_12': 1065, 'depot_idx_13': 1829, 'depot_idx_14': 2216, 'depot_idx_15': 1677, 'depot_idx_16': 650, 'depot_idx_17': 1413, 'percentage_unilized': 0.9606171190595211}. Best is trial 43 with value: 37373.73978040606.\u001B[0m\n",
      "\u001B[32m[I 2023-08-07 18:23:14,357]\u001B[0m Trial 55 finished with value: 105382.70028449204 and parameters: {'depot_idx_0': 2402, 'depot_idx_1': 371, 'depot_idx_2': 2112, 'depot_idx_3': 208, 'depot_idx_4': 104, 'depot_idx_5': 621, 'depot_idx_6': 1793, 'depot_idx_7': 1258, 'depot_idx_8': 16, 'depot_idx_9': 85, 'depot_idx_10': 1563, 'depot_idx_11': 742, 'depot_idx_12': 1622, 'depot_idx_13': 1984, 'depot_idx_14': 2387, 'depot_idx_15': 2010, 'depot_idx_16': 1257, 'depot_idx_17': 934, 'percentage_unilized': 0.9311876374306322}. Best is trial 43 with value: 37373.73978040606.\u001B[0m\n",
      "\u001B[32m[I 2023-08-07 18:23:15,062]\u001B[0m Trial 56 finished with value: 128672.70035451335 and parameters: {'depot_idx_0': 2397, 'depot_idx_1': 304, 'depot_idx_2': 2132, 'depot_idx_3': 171, 'depot_idx_4': 99, 'depot_idx_5': 622, 'depot_idx_6': 1781, 'depot_idx_7': 1262, 'depot_idx_8': 221, 'depot_idx_9': 562, 'depot_idx_10': 1982, 'depot_idx_11': 660, 'depot_idx_12': 1615, 'depot_idx_13': 2275, 'depot_idx_14': 1020, 'depot_idx_15': 2016, 'depot_idx_16': 1240, 'depot_idx_17': 761, 'percentage_unilized': 0.9009058835284085}. Best is trial 43 with value: 37373.73978040606.\u001B[0m\n",
      "\u001B[32m[I 2023-08-07 18:23:15,657]\u001B[0m Trial 57 finished with value: 110903.26498541087 and parameters: {'depot_idx_0': 1722, 'depot_idx_1': 593, 'depot_idx_2': 1343, 'depot_idx_3': 320, 'depot_idx_4': 254, 'depot_idx_5': 491, 'depot_idx_6': 1616, 'depot_idx_7': 1239, 'depot_idx_8': 391, 'depot_idx_9': 1574, 'depot_idx_10': 421, 'depot_idx_11': 747, 'depot_idx_12': 1844, 'depot_idx_13': 2046, 'depot_idx_14': 2054, 'depot_idx_15': 1543, 'depot_idx_16': 269, 'depot_idx_17': 886, 'percentage_unilized': 0.9268705826068317}. Best is trial 43 with value: 37373.73978040606.\u001B[0m\n",
      "\u001B[32m[I 2023-08-07 18:23:16,657]\u001B[0m Trial 58 finished with value: 136548.28217820064 and parameters: {'depot_idx_0': 31, 'depot_idx_1': 368, 'depot_idx_2': 2401, 'depot_idx_3': 109, 'depot_idx_4': 104, 'depot_idx_5': 774, 'depot_idx_6': 1520, 'depot_idx_7': 950, 'depot_idx_8': 1483, 'depot_idx_9': 292, 'depot_idx_10': 1494, 'depot_idx_11': 563, 'depot_idx_12': 1927, 'depot_idx_13': 2202, 'depot_idx_14': 2203, 'depot_idx_15': 1895, 'depot_idx_16': 1374, 'depot_idx_17': 1040, 'percentage_unilized': 0.8841000890352738}. Best is trial 43 with value: 37373.73978040606.\u001B[0m\n",
      "\u001B[32m[I 2023-08-07 18:23:17,927]\u001B[0m Trial 59 finished with value: 52077.96180926291 and parameters: {'depot_idx_0': 1265, 'depot_idx_1': 122, 'depot_idx_2': 2010, 'depot_idx_3': 241, 'depot_idx_4': 1445, 'depot_idx_5': 659, 'depot_idx_6': 2380, 'depot_idx_7': 1691, 'depot_idx_8': 106, 'depot_idx_9': 190, 'depot_idx_10': 1711, 'depot_idx_11': 950, 'depot_idx_12': 1662, 'depot_idx_13': 1836, 'depot_idx_14': 2327, 'depot_idx_15': 1771, 'depot_idx_16': 1129, 'depot_idx_17': 548, 'percentage_unilized': 0.98551848626854}. Best is trial 43 with value: 37373.73978040606.\u001B[0m\n",
      "\u001B[32m[I 2023-08-07 18:23:19,146]\u001B[0m Trial 60 finished with value: 120949.68287551627 and parameters: {'depot_idx_0': 2320, 'depot_idx_1': 569, 'depot_idx_2': 1885, 'depot_idx_3': 4, 'depot_idx_4': 27, 'depot_idx_5': 537, 'depot_idx_6': 1625, 'depot_idx_7': 1120, 'depot_idx_8': 2060, 'depot_idx_9': 1247, 'depot_idx_10': 672, 'depot_idx_11': 302, 'depot_idx_12': 1953, 'depot_idx_13': 1599, 'depot_idx_14': 1922, 'depot_idx_15': 2057, 'depot_idx_16': 1500, 'depot_idx_17': 914, 'percentage_unilized': 0.9138227998060514}. Best is trial 43 with value: 37373.73978040606.\u001B[0m\n",
      "\u001B[32m[I 2023-08-07 18:23:20,387]\u001B[0m Trial 61 finished with value: 98518.09363665036 and parameters: {'depot_idx_0': 2235, 'depot_idx_1': 1148, 'depot_idx_2': 2319, 'depot_idx_3': 1239, 'depot_idx_4': 231, 'depot_idx_5': 204, 'depot_idx_6': 1907, 'depot_idx_7': 1399, 'depot_idx_8': 103, 'depot_idx_9': 76, 'depot_idx_10': 1575, 'depot_idx_11': 1048, 'depot_idx_12': 1488, 'depot_idx_13': 1985, 'depot_idx_14': 2404, 'depot_idx_15': 2167, 'depot_idx_16': 685, 'depot_idx_17': 1162, 'percentage_unilized': 0.9383127933085966}. Best is trial 43 with value: 37373.73978040606.\u001B[0m\n",
      "\u001B[32m[I 2023-08-07 18:23:21,668]\u001B[0m Trial 62 finished with value: 75976.0816746786 and parameters: {'depot_idx_0': 2265, 'depot_idx_1': 1142, 'depot_idx_2': 2239, 'depot_idx_3': 1165, 'depot_idx_4': 223, 'depot_idx_5': 243, 'depot_idx_6': 2089, 'depot_idx_7': 1322, 'depot_idx_8': 104, 'depot_idx_9': 477, 'depot_idx_10': 1922, 'depot_idx_11': 1100, 'depot_idx_12': 1527, 'depot_idx_13': 2054, 'depot_idx_14': 2172, 'depot_idx_15': 2303, 'depot_idx_16': 443, 'depot_idx_17': 1177, 'percentage_unilized': 0.9626967758842924}. Best is trial 43 with value: 37373.73978040606.\u001B[0m\n",
      "\u001B[32m[I 2023-08-07 18:23:22,887]\u001B[0m Trial 63 finished with value: 83887.45442159165 and parameters: {'depot_idx_0': 1969, 'depot_idx_1': 787, 'depot_idx_2': 2130, 'depot_idx_3': 1472, 'depot_idx_4': 0, 'depot_idx_5': 360, 'depot_idx_6': 2218, 'depot_idx_7': 1221, 'depot_idx_8': 208, 'depot_idx_9': 99, 'depot_idx_10': 2089, 'depot_idx_11': 1298, 'depot_idx_12': 61, 'depot_idx_13': 1980, 'depot_idx_14': 2412, 'depot_idx_15': 2198, 'depot_idx_16': 661, 'depot_idx_17': 1049, 'percentage_unilized': 0.9469636569886656}. Best is trial 43 with value: 37373.73978040606.\u001B[0m\n",
      "\u001B[32m[I 2023-08-07 18:23:24,157]\u001B[0m Trial 64 finished with value: 119763.84478130468 and parameters: {'depot_idx_0': 1056, 'depot_idx_1': 1514, 'depot_idx_2': 2318, 'depot_idx_3': 498, 'depot_idx_4': 318, 'depot_idx_5': 73, 'depot_idx_6': 1961, 'depot_idx_7': 1587, 'depot_idx_8': 83, 'depot_idx_9': 366, 'depot_idx_10': 1562, 'depot_idx_11': 1558, 'depot_idx_12': 1805, 'depot_idx_13': 1394, 'depot_idx_14': 2263, 'depot_idx_15': 2320, 'depot_idx_16': 1101, 'depot_idx_17': 1113, 'percentage_unilized': 0.9028624858144805}. Best is trial 43 with value: 37373.73978040606.\u001B[0m\n",
      "\u001B[32m[I 2023-08-07 18:23:25,342]\u001B[0m Trial 65 finished with value: 37723.5255896971 and parameters: {'depot_idx_0': 2209, 'depot_idx_1': 2310, 'depot_idx_2': 1783, 'depot_idx_3': 746, 'depot_idx_4': 224, 'depot_idx_5': 440, 'depot_idx_6': 1222, 'depot_idx_7': 1045, 'depot_idx_8': 390, 'depot_idx_9': 998, 'depot_idx_10': 1851, 'depot_idx_11': 786, 'depot_idx_12': 1221, 'depot_idx_13': 2099, 'depot_idx_14': 2308, 'depot_idx_15': 898, 'depot_idx_16': 784, 'depot_idx_17': 984, 'percentage_unilized': 0.9983900913579015}. Best is trial 43 with value: 37373.73978040606.\u001B[0m\n",
      "\u001B[32m[I 2023-08-07 18:23:26,617]\u001B[0m Trial 66 finished with value: 98514.29472722785 and parameters: {'depot_idx_0': 2417, 'depot_idx_1': 2289, 'depot_idx_2': 2417, 'depot_idx_3': 610, 'depot_idx_4': 90, 'depot_idx_5': 206, 'depot_idx_6': 1752, 'depot_idx_7': 225, 'depot_idx_8': 1881, 'depot_idx_9': 28, 'depot_idx_10': 922, 'depot_idx_11': 438, 'depot_idx_12': 1307, 'depot_idx_13': 2327, 'depot_idx_14': 2070, 'depot_idx_15': 1988, 'depot_idx_16': 494, 'depot_idx_17': 758, 'percentage_unilized': 0.9245649192513108}. Best is trial 43 with value: 37373.73978040606.\u001B[0m\n",
      "\u001B[32m[I 2023-08-07 18:23:27,907]\u001B[0m Trial 67 finished with value: 110848.50686128571 and parameters: {'depot_idx_0': 2058, 'depot_idx_1': 2317, 'depot_idx_2': 2361, 'depot_idx_3': 637, 'depot_idx_4': 548, 'depot_idx_5': 174, 'depot_idx_6': 1387, 'depot_idx_7': 16, 'depot_idx_8': 1903, 'depot_idx_9': 2326, 'depot_idx_10': 799, 'depot_idx_11': 136, 'depot_idx_12': 860, 'depot_idx_13': 2287, 'depot_idx_14': 2161, 'depot_idx_15': 2125, 'depot_idx_16': 349, 'depot_idx_17': 650, 'percentage_unilized': 0.9204992380757431}. Best is trial 43 with value: 37373.73978040606.\u001B[0m\n",
      "\u001B[32m[I 2023-08-07 18:23:29,151]\u001B[0m Trial 68 finished with value: 69528.29282515045 and parameters: {'depot_idx_0': 1760, 'depot_idx_1': 2084, 'depot_idx_2': 1592, 'depot_idx_3': 1021, 'depot_idx_4': 167, 'depot_idx_5': 264, 'depot_idx_6': 1494, 'depot_idx_7': 200, 'depot_idx_8': 2122, 'depot_idx_9': 22, 'depot_idx_10': 931, 'depot_idx_11': 453, 'depot_idx_12': 1364, 'depot_idx_13': 1773, 'depot_idx_14': 2114, 'depot_idx_15': 1673, 'depot_idx_16': 719, 'depot_idx_17': 809, 'percentage_unilized': 0.9686205710764636}. Best is trial 43 with value: 37373.73978040606.\u001B[0m\n",
      "\u001B[32m[I 2023-08-07 18:23:30,417]\u001B[0m Trial 69 finished with value: 138143.86268244532 and parameters: {'depot_idx_0': 1495, 'depot_idx_1': 2279, 'depot_idx_2': 2413, 'depot_idx_3': 374, 'depot_idx_4': 297, 'depot_idx_5': 318, 'depot_idx_6': 1727, 'depot_idx_7': 458, 'depot_idx_8': 1823, 'depot_idx_9': 211, 'depot_idx_10': 1001, 'depot_idx_11': 202, 'depot_idx_12': 1482, 'depot_idx_13': 2348, 'depot_idx_14': 1754, 'depot_idx_15': 1377, 'depot_idx_16': 508, 'depot_idx_17': 1368, 'percentage_unilized': 0.8856231374344599}. Best is trial 43 with value: 37373.73978040606.\u001B[0m\n",
      "\u001B[32m[I 2023-08-07 18:23:31,659]\u001B[0m Trial 70 finished with value: 155033.90227321998 and parameters: {'depot_idx_0': 2206, 'depot_idx_1': 2004, 'depot_idx_2': 1080, 'depot_idx_3': 869, 'depot_idx_4': 657, 'depot_idx_5': 183, 'depot_idx_6': 1892, 'depot_idx_7': 278, 'depot_idx_8': 2243, 'depot_idx_9': 532, 'depot_idx_10': 2400, 'depot_idx_11': 589, 'depot_idx_12': 2117, 'depot_idx_13': 2217, 'depot_idx_14': 2032, 'depot_idx_15': 1132, 'depot_idx_16': 325, 'depot_idx_17': 1499, 'percentage_unilized': 0.8628730291465049}. Best is trial 43 with value: 37373.73978040606.\u001B[0m\n",
      "\u001B[32m[I 2023-08-07 18:23:32,913]\u001B[0m Trial 71 finished with value: 101083.6913605232 and parameters: {'depot_idx_0': 2330, 'depot_idx_1': 1232, 'depot_idx_2': 2183, 'depot_idx_3': 510, 'depot_idx_4': 60, 'depot_idx_5': 494, 'depot_idx_6': 1789, 'depot_idx_7': 1445, 'depot_idx_8': 2334, 'depot_idx_9': 121, 'depot_idx_10': 879, 'depot_idx_11': 953, 'depot_idx_12': 1331, 'depot_idx_13': 1899, 'depot_idx_14': 2220, 'depot_idx_15': 1986, 'depot_idx_16': 545, 'depot_idx_17': 958, 'percentage_unilized': 0.9401219408870516}. Best is trial 43 with value: 37373.73978040606.\u001B[0m\n",
      "\u001B[32m[I 2023-08-07 18:23:34,179]\u001B[0m Trial 72 finished with value: 80465.7262486424 and parameters: {'depot_idx_0': 2326, 'depot_idx_1': 1245, 'depot_idx_2': 2222, 'depot_idx_3': 561, 'depot_idx_4': 84, 'depot_idx_5': 465, 'depot_idx_6': 1695, 'depot_idx_7': 1490, 'depot_idx_8': 2335, 'depot_idx_9': 164, 'depot_idx_10': 860, 'depot_idx_11': 1053, 'depot_idx_12': 1242, 'depot_idx_13': 1892, 'depot_idx_14': 1930, 'depot_idx_15': 1954, 'depot_idx_16': 575, 'depot_idx_17': 450, 'percentage_unilized': 0.9546117313576938}. Best is trial 43 with value: 37373.73978040606.\u001B[0m\n",
      "\u001B[32m[I 2023-08-07 18:23:35,490]\u001B[0m Trial 73 finished with value: 100316.79742783637 and parameters: {'depot_idx_0': 2326, 'depot_idx_1': 1459, 'depot_idx_2': 2345, 'depot_idx_3': 768, 'depot_idx_4': 204, 'depot_idx_5': 103, 'depot_idx_6': 1579, 'depot_idx_7': 1696, 'depot_idx_8': 1984, 'depot_idx_9': 322, 'depot_idx_10': 696, 'depot_idx_11': 1173, 'depot_idx_12': 1148, 'depot_idx_13': 2142, 'depot_idx_14': 2212, 'depot_idx_15': 2258, 'depot_idx_16': 171, 'depot_idx_17': 1151, 'percentage_unilized': 0.925319192345291}. Best is trial 43 with value: 37373.73978040606.\u001B[0m\n",
      "\u001B[32m[I 2023-08-07 18:23:36,881]\u001B[0m Trial 74 finished with value: 122236.47239743831 and parameters: {'depot_idx_0': 2335, 'depot_idx_1': 2125, 'depot_idx_2': 2156, 'depot_idx_3': 784, 'depot_idx_4': 70, 'depot_idx_5': 94, 'depot_idx_6': 1585, 'depot_idx_7': 1693, 'depot_idx_8': 2147, 'depot_idx_9': 355, 'depot_idx_10': 699, 'depot_idx_11': 1425, 'depot_idx_12': 1113, 'depot_idx_13': 2413, 'depot_idx_14': 2230, 'depot_idx_15': 2261, 'depot_idx_16': 121, 'depot_idx_17': 720, 'percentage_unilized': 0.9049515644597994}. Best is trial 43 with value: 37373.73978040606.\u001B[0m\n",
      "\u001B[32m[I 2023-08-07 18:23:38,155]\u001B[0m Trial 75 finished with value: 113959.08737211191 and parameters: {'depot_idx_0': 2147, 'depot_idx_1': 2404, 'depot_idx_2': 2326, 'depot_idx_3': 670, 'depot_idx_4': 179, 'depot_idx_5': 46, 'depot_idx_6': 1433, 'depot_idx_7': 2288, 'depot_idx_8': 1986, 'depot_idx_9': 225, 'depot_idx_10': 596, 'depot_idx_11': 1166, 'depot_idx_12': 982, 'depot_idx_13': 2167, 'depot_idx_14': 2122, 'depot_idx_15': 2337, 'depot_idx_16': 159, 'depot_idx_17': 1174, 'percentage_unilized': 0.9194051248142048}. Best is trial 43 with value: 37373.73978040606.\u001B[0m\n",
      "\u001B[32m[I 2023-08-07 18:23:39,492]\u001B[0m Trial 76 finished with value: 54302.11368968518 and parameters: {'depot_idx_0': 1989, 'depot_idx_1': 1433, 'depot_idx_2': 2011, 'depot_idx_3': 408, 'depot_idx_4': 13, 'depot_idx_5': 227, 'depot_idx_6': 1328, 'depot_idx_7': 1916, 'depot_idx_8': 2398, 'depot_idx_9': 272, 'depot_idx_10': 153, 'depot_idx_11': 973, 'depot_idx_12': 1114, 'depot_idx_13': 1647, 'depot_idx_14': 2034, 'depot_idx_15': 2068, 'depot_idx_16': 446, 'depot_idx_17': 1025, 'percentage_unilized': 0.9821113328473536}. Best is trial 43 with value: 37373.73978040606.\u001B[0m\n",
      "\u001B[32m[I 2023-08-07 18:23:40,742]\u001B[0m Trial 77 finished with value: 81921.1334002065 and parameters: {'depot_idx_0': 1878, 'depot_idx_1': 981, 'depot_idx_2': 2246, 'depot_idx_3': 1285, 'depot_idx_4': 472, 'depot_idx_5': 1317, 'depot_idx_6': 1488, 'depot_idx_7': 856, 'depot_idx_8': 2073, 'depot_idx_9': 1807, 'depot_idx_10': 782, 'depot_idx_11': 1208, 'depot_idx_12': 1340, 'depot_idx_13': 2097, 'depot_idx_14': 1955, 'depot_idx_15': 1828, 'depot_idx_16': 28, 'depot_idx_17': 831, 'percentage_unilized': 0.9473445668500309}. Best is trial 43 with value: 37373.73978040606.\u001B[0m\n",
      "\u001B[32m[I 2023-08-07 18:23:42,025]\u001B[0m Trial 78 finished with value: 71076.08226914215 and parameters: {'depot_idx_0': 2346, 'depot_idx_1': 1129, 'depot_idx_2': 2065, 'depot_idx_3': 1667, 'depot_idx_4': 369, 'depot_idx_5': 579, 'depot_idx_6': 1740, 'depot_idx_7': 546, 'depot_idx_8': 2208, 'depot_idx_9': 14, 'depot_idx_10': 481, 'depot_idx_11': 929, 'depot_idx_12': 1270, 'depot_idx_13': 1112, 'depot_idx_14': 2226, 'depot_idx_15': 2236, 'depot_idx_16': 540, 'depot_idx_17': 1319, 'percentage_unilized': 0.9708975162282372}. Best is trial 43 with value: 37373.73978040606.\u001B[0m\n",
      "\u001B[32m[I 2023-08-07 18:23:43,313]\u001B[0m Trial 79 finished with value: 126371.20730881751 and parameters: {'depot_idx_0': 1627, 'depot_idx_1': 1601, 'depot_idx_2': 2336, 'depot_idx_3': 1090, 'depot_idx_4': 172, 'depot_idx_5': 1429, 'depot_idx_6': 1639, 'depot_idx_7': 1779, 'depot_idx_8': 1670, 'depot_idx_9': 1114, 'depot_idx_10': 880, 'depot_idx_11': 1016, 'depot_idx_12': 704, 'depot_idx_13': 1277, 'depot_idx_14': 1792, 'depot_idx_15': 1466, 'depot_idx_16': 232, 'depot_idx_17': 978, 'percentage_unilized': 0.8950489181634582}. Best is trial 43 with value: 37373.73978040606.\u001B[0m\n",
      "\u001B[32m[I 2023-08-07 18:23:44,592]\u001B[0m Trial 80 finished with value: 101386.51708618429 and parameters: {'depot_idx_0': 2414, 'depot_idx_1': 1729, 'depot_idx_2': 2208, 'depot_idx_3': 1805, 'depot_idx_4': 299, 'depot_idx_5': 107, 'depot_idx_6': 1131, 'depot_idx_7': 1429, 'depot_idx_8': 1833, 'depot_idx_9': 843, 'depot_idx_10': 1090, 'depot_idx_11': 1158, 'depot_idx_12': 2308, 'depot_idx_13': 1726, 'depot_idx_14': 1637, 'depot_idx_15': 2126, 'depot_idx_16': 903, 'depot_idx_17': 201, 'percentage_unilized': 0.9263633112944489}. Best is trial 43 with value: 37373.73978040606.\u001B[0m\n",
      "\u001B[32m[I 2023-08-07 18:23:45,828]\u001B[0m Trial 81 finished with value: 100113.6817478911 and parameters: {'depot_idx_0': 2408, 'depot_idx_1': 1706, 'depot_idx_2': 2180, 'depot_idx_3': 1436, 'depot_idx_4': 294, 'depot_idx_5': 19, 'depot_idx_6': 1260, 'depot_idx_7': 1463, 'depot_idx_8': 1841, 'depot_idx_9': 841, 'depot_idx_10': 963, 'depot_idx_11': 1155, 'depot_idx_12': 2287, 'depot_idx_13': 1735, 'depot_idx_14': 2079, 'depot_idx_15': 2120, 'depot_idx_16': 724, 'depot_idx_17': 1075, 'percentage_unilized': 0.9241739310944546}. Best is trial 43 with value: 37373.73978040606.\u001B[0m\n",
      "\u001B[32m[I 2023-08-07 18:23:47,107]\u001B[0m Trial 82 finished with value: 101236.89837945029 and parameters: {'depot_idx_0': 2411, 'depot_idx_1': 1695, 'depot_idx_2': 2169, 'depot_idx_3': 1862, 'depot_idx_4': 302, 'depot_idx_5': 59, 'depot_idx_6': 1081, 'depot_idx_7': 1422, 'depot_idx_8': 1782, 'depot_idx_9': 135, 'depot_idx_10': 1072, 'depot_idx_11': 1432, 'depot_idx_12': 1161, 'depot_idx_13': 1798, 'depot_idx_14': 1233, 'depot_idx_15': 1910, 'depot_idx_16': 912, 'depot_idx_17': 216, 'percentage_unilized': 0.9227522913612795}. Best is trial 43 with value: 37373.73978040606.\u001B[0m\n",
      "\u001B[32m[I 2023-08-07 18:23:48,392]\u001B[0m Trial 83 finished with value: 67866.3290680704 and parameters: {'depot_idx_0': 2302, 'depot_idx_1': 1877, 'depot_idx_2': 2158, 'depot_idx_3': 1405, 'depot_idx_4': 1745, 'depot_idx_5': 1, 'depot_idx_6': 992, 'depot_idx_7': 1536, 'depot_idx_8': 1976, 'depot_idx_9': 110, 'depot_idx_10': 947, 'depot_idx_11': 1520, 'depot_idx_12': 1150, 'depot_idx_13': 1836, 'depot_idx_14': 914, 'depot_idx_15': 1985, 'depot_idx_16': 727, 'depot_idx_17': 35, 'percentage_unilized': 0.9596409083712344}. Best is trial 43 with value: 37373.73978040606.\u001B[0m\n",
      "\u001B[32m[I 2023-08-07 18:23:49,687]\u001B[0m Trial 84 finished with value: 88102.20026957741 and parameters: {'depot_idx_0': 2417, 'depot_idx_1': 1704, 'depot_idx_2': 2332, 'depot_idx_3': 2226, 'depot_idx_4': 446, 'depot_idx_5': 218, 'depot_idx_6': 1174, 'depot_idx_7': 1458, 'depot_idx_8': 1754, 'depot_idx_9': 159, 'depot_idx_10': 994, 'depot_idx_11': 1312, 'depot_idx_12': 1181, 'depot_idx_13': 1918, 'depot_idx_14': 1211, 'depot_idx_15': 1899, 'depot_idx_16': 929, 'depot_idx_17': 120, 'percentage_unilized': 0.9418103104037648}. Best is trial 43 with value: 37373.73978040606.\u001B[0m\n",
      "\u001B[32m[I 2023-08-07 18:23:51,007]\u001B[0m Trial 85 finished with value: 105853.56887167139 and parameters: {'depot_idx_0': 2182, 'depot_idx_1': 1354, 'depot_idx_2': 1913, 'depot_idx_3': 1229, 'depot_idx_4': 348, 'depot_idx_5': 93, 'depot_idx_6': 857, 'depot_idx_7': 1330, 'depot_idx_8': 1280, 'depot_idx_9': 942, 'depot_idx_10': 745, 'depot_idx_11': 1865, 'depot_idx_12': 947, 'depot_idx_13': 1513, 'depot_idx_14': 1456, 'depot_idx_15': 2082, 'depot_idx_16': 567, 'depot_idx_17': 1153, 'percentage_unilized': 0.9192140781608141}. Best is trial 43 with value: 37373.73978040606.\u001B[0m\n",
      "\u001B[32m[I 2023-08-07 18:23:52,279]\u001B[0m Trial 86 finished with value: 98628.41400764458 and parameters: {'depot_idx_0': 2253, 'depot_idx_1': 1465, 'depot_idx_2': 2039, 'depot_idx_3': 2034, 'depot_idx_4': 203, 'depot_idx_5': 135, 'depot_idx_6': 1046, 'depot_idx_7': 1703, 'depot_idx_8': 1856, 'depot_idx_9': 307, 'depot_idx_10': 1066, 'depot_idx_11': 1409, 'depot_idx_12': 1325, 'depot_idx_13': 956, 'depot_idx_14': 388, 'depot_idx_15': 791, 'depot_idx_16': 737, 'depot_idx_17': 318, 'percentage_unilized': 0.9027832840648483}. Best is trial 43 with value: 37373.73978040606.\u001B[0m\n",
      "\u001B[32m[I 2023-08-07 18:23:53,547]\u001B[0m Trial 87 finished with value: 119595.21809562684 and parameters: {'depot_idx_0': 2255, 'depot_idx_1': 1552, 'depot_idx_2': 1992, 'depot_idx_3': 2036, 'depot_idx_4': 143, 'depot_idx_5': 325, 'depot_idx_6': 2048, 'depot_idx_7': 1650, 'depot_idx_8': 1591, 'depot_idx_9': 284, 'depot_idx_10': 878, 'depot_idx_11': 1257, 'depot_idx_12': 1525, 'depot_idx_13': 965, 'depot_idx_14': 302, 'depot_idx_15': 686, 'depot_idx_16': 401, 'depot_idx_17': 1061, 'percentage_unilized': 0.9075703729692897}. Best is trial 43 with value: 37373.73978040606.\u001B[0m\n",
      "\u001B[32m[I 2023-08-07 18:23:54,822]\u001B[0m Trial 88 finished with value: 146814.0206284246 and parameters: {'depot_idx_0': 2093, 'depot_idx_1': 1478, 'depot_idx_2': 2274, 'depot_idx_3': 2321, 'depot_idx_4': 56, 'depot_idx_5': 1668, 'depot_idx_6': 779, 'depot_idx_7': 1837, 'depot_idx_8': 1682, 'depot_idx_9': 403, 'depot_idx_10': 1186, 'depot_idx_11': 84, 'depot_idx_12': 1426, 'depot_idx_13': 872, 'depot_idx_14': 454, 'depot_idx_15': 774, 'depot_idx_16': 723, 'depot_idx_17': 325, 'percentage_unilized': 0.8895380989846778}. Best is trial 43 with value: 37373.73978040606.\u001B[0m\n",
      "\u001B[32m[I 2023-08-07 18:23:56,137]\u001B[0m Trial 89 finished with value: 88894.35945322148 and parameters: {'depot_idx_0': 2326, 'depot_idx_1': 1806, 'depot_idx_2': 2086, 'depot_idx_3': 489, 'depot_idx_4': 228, 'depot_idx_5': 147, 'depot_idx_6': 1307, 'depot_idx_7': 1591, 'depot_idx_8': 1503, 'depot_idx_9': 1248, 'depot_idx_10': 634, 'depot_idx_11': 1356, 'depot_idx_12': 1324, 'depot_idx_13': 2343, 'depot_idx_14': 789, 'depot_idx_15': 542, 'depot_idx_16': 2354, 'depot_idx_17': 1260, 'percentage_unilized': 0.9391912718811278}. Best is trial 43 with value: 37373.73978040606.\u001B[0m\n",
      "\u001B[32m[I 2023-08-07 18:23:57,437]\u001B[0m Trial 90 finished with value: 77050.37529629863 and parameters: {'depot_idx_0': 2148, 'depot_idx_1': 1395, 'depot_idx_2': 2048, 'depot_idx_3': 1517, 'depot_idx_4': 195, 'depot_idx_5': 287, 'depot_idx_6': 1258, 'depot_idx_7': 1647, 'depot_idx_8': 1955, 'depot_idx_9': 612, 'depot_idx_10': 1289, 'depot_idx_11': 1140, 'depot_idx_12': 1387, 'depot_idx_13': 767, 'depot_idx_14': 1096, 'depot_idx_15': 998, 'depot_idx_16': 620, 'depot_idx_17': 480, 'percentage_unilized': 0.9583813178808452}. Best is trial 43 with value: 37373.73978040606.\u001B[0m\n",
      "\u001B[32m[I 2023-08-07 18:23:58,778]\u001B[0m Trial 91 finished with value: 107170.85068565203 and parameters: {'depot_idx_0': 2359, 'depot_idx_1': 1669, 'depot_idx_2': 2172, 'depot_idx_3': 1898, 'depot_idx_4': 310, 'depot_idx_5': 1, 'depot_idx_6': 952, 'depot_idx_7': 1369, 'depot_idx_8': 1800, 'depot_idx_9': 56, 'depot_idx_10': 1092, 'depot_idx_11': 1449, 'depot_idx_12': 1055, 'depot_idx_13': 584, 'depot_idx_14': 716, 'depot_idx_15': 287, 'depot_idx_16': 830, 'depot_idx_17': 163, 'percentage_unilized': 0.9272999264544479}. Best is trial 43 with value: 37373.73978040606.\u001B[0m\n",
      "\u001B[32m[I 2023-08-07 18:24:00,088]\u001B[0m Trial 92 finished with value: 119622.93770182914 and parameters: {'depot_idx_0': 2255, 'depot_idx_1': 1594, 'depot_idx_2': 2248, 'depot_idx_3': 2013, 'depot_idx_4': 401, 'depot_idx_5': 205, 'depot_idx_6': 1114, 'depot_idx_7': 1537, 'depot_idx_8': 1879, 'depot_idx_9': 115, 'depot_idx_10': 1047, 'depot_idx_11': 1503, 'depot_idx_12': 1276, 'depot_idx_13': 1132, 'depot_idx_14': 1360, 'depot_idx_15': 2202, 'depot_idx_16': 858, 'depot_idx_17': 297, 'percentage_unilized': 0.906269344893047}. Best is trial 43 with value: 37373.73978040606.\u001B[0m\n",
      "\u001B[32m[I 2023-08-07 18:24:01,417]\u001B[0m Trial 93 finished with value: 86951.26304900278 and parameters: {'depot_idx_0': 2362, 'depot_idx_1': 1198, 'depot_idx_2': 2353, 'depot_idx_3': 1727, 'depot_idx_4': 258, 'depot_idx_5': 54, 'depot_idx_6': 1056, 'depot_idx_7': 1772, 'depot_idx_8': 1728, 'depot_idx_9': 338, 'depot_idx_10': 929, 'depot_idx_11': 1640, 'depot_idx_12': 1188, 'depot_idx_13': 2039, 'depot_idx_14': 2274, 'depot_idx_15': 1224, 'depot_idx_16': 762, 'depot_idx_17': 223, 'percentage_unilized': 0.9496357672486576}. Best is trial 43 with value: 37373.73978040606.\u001B[0m\n",
      "\u001B[32m[I 2023-08-07 18:24:02,719]\u001B[0m Trial 94 finished with value: 94535.68788429331 and parameters: {'depot_idx_0': 2212, 'depot_idx_1': 1484, 'depot_idx_2': 1795, 'depot_idx_3': 2119, 'depot_idx_4': 527, 'depot_idx_5': 134, 'depot_idx_6': 1389, 'depot_idx_7': 1426, 'depot_idx_8': 1864, 'depot_idx_9': 1395, 'depot_idx_10': 958, 'depot_idx_11': 1365, 'depot_idx_12': 1351, 'depot_idx_13': 1382, 'depot_idx_14': 4, 'depot_idx_15': 1737, 'depot_idx_16': 961, 'depot_idx_17': 1098, 'percentage_unilized': 0.9356133649889542}. Best is trial 43 with value: 37373.73978040606.\u001B[0m\n",
      "\u001B[32m[I 2023-08-07 18:24:04,013]\u001B[0m Trial 95 finished with value: 56318.26044008605 and parameters: {'depot_idx_0': 2288, 'depot_idx_1': 1117, 'depot_idx_2': 2121, 'depot_idx_3': 2189, 'depot_idx_4': 136, 'depot_idx_5': 383, 'depot_idx_6': 1955, 'depot_idx_7': 1962, 'depot_idx_8': 2081, 'depot_idx_9': 0, 'depot_idx_10': 1132, 'depot_idx_11': 1713, 'depot_idx_12': 1455, 'depot_idx_13': 2164, 'depot_idx_14': 2357, 'depot_idx_15': 2025, 'depot_idx_16': 1076, 'depot_idx_17': 110, 'percentage_unilized': 0.983397038144824}. Best is trial 43 with value: 37373.73978040606.\u001B[0m\n",
      "\u001B[32m[I 2023-08-07 18:24:05,342]\u001B[0m Trial 96 finished with value: 68370.8644974677 and parameters: {'depot_idx_0': 2050, 'depot_idx_1': 1653, 'depot_idx_2': 2289, 'depot_idx_3': 1159, 'depot_idx_4': 62, 'depot_idx_5': 65, 'depot_idx_6': 508, 'depot_idx_7': 1712, 'depot_idx_8': 2300, 'depot_idx_9': 1149, 'depot_idx_10': 2230, 'depot_idx_11': 1270, 'depot_idx_12': 1558, 'depot_idx_13': 920, 'depot_idx_14': 1994, 'depot_idx_15': 2154, 'depot_idx_16': 679, 'depot_idx_17': 384, 'percentage_unilized': 0.9699536706192843}. Best is trial 43 with value: 37373.73978040606.\u001B[0m\n",
      "\u001B[32m[I 2023-08-07 18:24:06,667]\u001B[0m Trial 97 finished with value: 107847.71905247314 and parameters: {'depot_idx_0': 2365, 'depot_idx_1': 1988, 'depot_idx_2': 827, 'depot_idx_3': 1861, 'depot_idx_4': 264, 'depot_idx_5': 289, 'depot_idx_6': 1027, 'depot_idx_7': 1571, 'depot_idx_8': 2001, 'depot_idx_9': 238, 'depot_idx_10': 1377, 'depot_idx_11': 1053, 'depot_idx_12': 1290, 'depot_idx_13': 1802, 'depot_idx_14': 2069, 'depot_idx_15': 1873, 'depot_idx_16': 465, 'depot_idx_17': 1224, 'percentage_unilized': 0.9193800646732563}. Best is trial 43 with value: 37373.73978040606.\u001B[0m\n",
      "\u001B[32m[I 2023-08-07 18:24:07,982]\u001B[0m Trial 98 finished with value: 124523.16313616761 and parameters: {'depot_idx_0': 806, 'depot_idx_1': 1760, 'depot_idx_2': 2212, 'depot_idx_3': 2299, 'depot_idx_4': 110, 'depot_idx_5': 131, 'depot_idx_6': 1562, 'depot_idx_7': 1151, 'depot_idx_8': 1926, 'depot_idx_9': 401, 'depot_idx_10': 781, 'depot_idx_11': 1212, 'depot_idx_12': 1007, 'depot_idx_13': 1065, 'depot_idx_14': 2170, 'depot_idx_15': 2357, 'depot_idx_16': 613, 'depot_idx_17': 928, 'percentage_unilized': 0.8960757144963077}. Best is trial 43 with value: 37373.73978040606.\u001B[0m\n",
      "\u001B[32m[I 2023-08-07 18:24:09,355]\u001B[0m Trial 99 finished with value: 143882.31385409462 and parameters: {'depot_idx_0': 2302, 'depot_idx_1': 1451, 'depot_idx_2': 2378, 'depot_idx_3': 1984, 'depot_idx_4': 184, 'depot_idx_5': 185, 'depot_idx_6': 1198, 'depot_idx_7': 1291, 'depot_idx_8': 1032, 'depot_idx_9': 150, 'depot_idx_10': 1227, 'depot_idx_11': 1449, 'depot_idx_12': 935, 'depot_idx_13': 1926, 'depot_idx_14': 528, 'depot_idx_15': 1952, 'depot_idx_16': 867, 'depot_idx_17': 620, 'percentage_unilized': 0.8801284157638535}. Best is trial 43 with value: 37373.73978040606.\u001B[0m\n"
     ]
    }
   ],
   "source": [
    "def constraint_func(trial: optuna.Trial) -> Tuple[float]:\n",
    "    return trial.user_attrs['constraint']\n",
    "\n",
    "sampler = optuna.samplers.TPESampler(constraints_func=constraint_func)\n",
    "study = optuna.create_study(sampler=sampler, direction='minimize')  # Create a new study.\n",
    "study.optimize(optuna_obj, n_trials=100)"
   ],
   "metadata": {
    "collapsed": false,
    "ExecuteTime": {
     "end_time": "2023-08-07T14:24:09.366469300Z",
     "start_time": "2023-08-07T14:22:44.233133100Z"
    }
   }
  },
  {
   "cell_type": "code",
   "execution_count": 56,
   "outputs": [
    {
     "data": {
      "application/vnd.plotly.v1+json": {
       "data": [
        {
         "mode": "markers",
         "name": "Objective Value",
         "x": [
          0,
          1,
          2,
          3,
          4,
          5,
          6,
          7,
          8,
          9,
          10,
          11,
          12,
          13,
          14,
          15,
          16,
          17,
          18,
          19,
          20,
          21,
          22,
          23,
          24,
          25,
          26,
          27,
          28,
          29,
          30,
          31,
          32,
          33,
          34,
          35,
          36,
          37,
          38,
          39,
          40,
          41,
          42,
          43,
          44,
          45,
          46,
          47,
          48,
          49,
          50,
          51,
          52,
          53,
          54,
          55,
          56,
          57,
          58,
          59,
          60,
          61,
          62,
          63,
          64,
          65,
          66,
          67,
          68,
          69,
          70,
          71,
          72,
          73,
          74,
          75,
          76,
          77,
          78,
          79,
          80,
          81,
          82,
          83,
          84,
          85,
          86,
          87,
          88,
          89,
          90,
          91,
          92,
          93,
          94,
          95,
          96,
          97,
          98,
          99
         ],
         "y": [
          297188.85849794146,
          290019.9301442778,
          244755.2602496107,
          129009.03231841483,
          50547.38068520394,
          298924.9010381078,
          157869.14664197332,
          211319.4286472155,
          294475.58854347677,
          80033.54846045299,
          139691.9532074989,
          146842.06551206685,
          122463.13877865317,
          95589.9144306278,
          180201.16387748724,
          92021.5779413639,
          41809.97025185542,
          179902.17263791306,
          129934.34244434105,
          228110.24624644182,
          103011.21580614673,
          108355.72321915728,
          83724.46514153981,
          166902.6452536742,
          112976.16303743228,
          69498.91210192748,
          112829.55275639772,
          62940.88721880273,
          107181.85544374703,
          47259.688648400785,
          76123.19445771973,
          100844.20239393387,
          94295.20726215704,
          120737.49257437506,
          153327.5368838095,
          131337.98159144443,
          61295.542535907705,
          80900.741873226,
          254221.515728467,
          124347.15673163286,
          100878.26172066118,
          75166.38465646173,
          40887.75197571232,
          37373.73978040606,
          147829.16202169395,
          99023.8157228301,
          105785.95253311907,
          89179.40332063475,
          148297.3580319294,
          156917.86852663936,
          58318.83794550174,
          103106.92931811456,
          121549.52895196665,
          94141.63336635122,
          81387.85894519892,
          105382.70028449204,
          128672.70035451335,
          110903.26498541087,
          136548.28217820064,
          52077.96180926291,
          120949.68287551627,
          98518.09363665036,
          75976.0816746786,
          83887.45442159165,
          119763.84478130468,
          37723.5255896971,
          98514.29472722785,
          110848.50686128571,
          69528.29282515045,
          138143.86268244532,
          155033.90227321998,
          101083.6913605232,
          80465.7262486424,
          100316.79742783637,
          122236.47239743831,
          113959.08737211191,
          54302.11368968518,
          81921.1334002065,
          71076.08226914215,
          126371.20730881751,
          101386.51708618429,
          100113.6817478911,
          101236.89837945029,
          67866.3290680704,
          88102.20026957741,
          105853.56887167139,
          98628.41400764458,
          119595.21809562684,
          146814.0206284246,
          88894.35945322148,
          77050.37529629863,
          107170.85068565203,
          119622.93770182914,
          86951.26304900278,
          94535.68788429331,
          56318.26044008605,
          68370.8644974677,
          107847.71905247314,
          124523.16313616761,
          143882.31385409462
         ],
         "type": "scatter"
        },
        {
         "name": "Best Value",
         "x": [
          0,
          1,
          2,
          3,
          4,
          5,
          6,
          7,
          8,
          9,
          10,
          11,
          12,
          13,
          14,
          15,
          16,
          17,
          18,
          19,
          20,
          21,
          22,
          23,
          24,
          25,
          26,
          27,
          28,
          29,
          30,
          31,
          32,
          33,
          34,
          35,
          36,
          37,
          38,
          39,
          40,
          41,
          42,
          43,
          44,
          45,
          46,
          47,
          48,
          49,
          50,
          51,
          52,
          53,
          54,
          55,
          56,
          57,
          58,
          59,
          60,
          61,
          62,
          63,
          64,
          65,
          66,
          67,
          68,
          69,
          70,
          71,
          72,
          73,
          74,
          75,
          76,
          77,
          78,
          79,
          80,
          81,
          82,
          83,
          84,
          85,
          86,
          87,
          88,
          89,
          90,
          91,
          92,
          93,
          94,
          95,
          96,
          97,
          98,
          99
         ],
         "y": [
          297188.85849794146,
          290019.9301442778,
          244755.2602496107,
          129009.03231841483,
          50547.38068520394,
          50547.38068520394,
          50547.38068520394,
          50547.38068520394,
          50547.38068520394,
          50547.38068520394,
          50547.38068520394,
          50547.38068520394,
          50547.38068520394,
          50547.38068520394,
          50547.38068520394,
          50547.38068520394,
          41809.97025185542,
          41809.97025185542,
          41809.97025185542,
          41809.97025185542,
          41809.97025185542,
          41809.97025185542,
          41809.97025185542,
          41809.97025185542,
          41809.97025185542,
          41809.97025185542,
          41809.97025185542,
          41809.97025185542,
          41809.97025185542,
          41809.97025185542,
          41809.97025185542,
          41809.97025185542,
          41809.97025185542,
          41809.97025185542,
          41809.97025185542,
          41809.97025185542,
          41809.97025185542,
          41809.97025185542,
          41809.97025185542,
          41809.97025185542,
          41809.97025185542,
          41809.97025185542,
          40887.75197571232,
          37373.73978040606,
          37373.73978040606,
          37373.73978040606,
          37373.73978040606,
          37373.73978040606,
          37373.73978040606,
          37373.73978040606,
          37373.73978040606,
          37373.73978040606,
          37373.73978040606,
          37373.73978040606,
          37373.73978040606,
          37373.73978040606,
          37373.73978040606,
          37373.73978040606,
          37373.73978040606,
          37373.73978040606,
          37373.73978040606,
          37373.73978040606,
          37373.73978040606,
          37373.73978040606,
          37373.73978040606,
          37373.73978040606,
          37373.73978040606,
          37373.73978040606,
          37373.73978040606,
          37373.73978040606,
          37373.73978040606,
          37373.73978040606,
          37373.73978040606,
          37373.73978040606,
          37373.73978040606,
          37373.73978040606,
          37373.73978040606,
          37373.73978040606,
          37373.73978040606,
          37373.73978040606,
          37373.73978040606,
          37373.73978040606,
          37373.73978040606,
          37373.73978040606,
          37373.73978040606,
          37373.73978040606,
          37373.73978040606,
          37373.73978040606,
          37373.73978040606,
          37373.73978040606,
          37373.73978040606,
          37373.73978040606,
          37373.73978040606,
          37373.73978040606,
          37373.73978040606,
          37373.73978040606,
          37373.73978040606,
          37373.73978040606,
          37373.73978040606,
          37373.73978040606
         ],
         "type": "scatter"
        }
       ],
       "layout": {
        "title": {
         "text": "Optimization History Plot"
        },
        "xaxis": {
         "title": {
          "text": "Trial"
         }
        },
        "yaxis": {
         "title": {
          "text": "Objective Value"
         }
        },
        "template": {
         "data": {
          "histogram2dcontour": [
           {
            "type": "histogram2dcontour",
            "colorbar": {
             "outlinewidth": 0,
             "ticks": ""
            },
            "colorscale": [
             [
              0.0,
              "#0d0887"
             ],
             [
              0.1111111111111111,
              "#46039f"
             ],
             [
              0.2222222222222222,
              "#7201a8"
             ],
             [
              0.3333333333333333,
              "#9c179e"
             ],
             [
              0.4444444444444444,
              "#bd3786"
             ],
             [
              0.5555555555555556,
              "#d8576b"
             ],
             [
              0.6666666666666666,
              "#ed7953"
             ],
             [
              0.7777777777777778,
              "#fb9f3a"
             ],
             [
              0.8888888888888888,
              "#fdca26"
             ],
             [
              1.0,
              "#f0f921"
             ]
            ]
           }
          ],
          "choropleth": [
           {
            "type": "choropleth",
            "colorbar": {
             "outlinewidth": 0,
             "ticks": ""
            }
           }
          ],
          "histogram2d": [
           {
            "type": "histogram2d",
            "colorbar": {
             "outlinewidth": 0,
             "ticks": ""
            },
            "colorscale": [
             [
              0.0,
              "#0d0887"
             ],
             [
              0.1111111111111111,
              "#46039f"
             ],
             [
              0.2222222222222222,
              "#7201a8"
             ],
             [
              0.3333333333333333,
              "#9c179e"
             ],
             [
              0.4444444444444444,
              "#bd3786"
             ],
             [
              0.5555555555555556,
              "#d8576b"
             ],
             [
              0.6666666666666666,
              "#ed7953"
             ],
             [
              0.7777777777777778,
              "#fb9f3a"
             ],
             [
              0.8888888888888888,
              "#fdca26"
             ],
             [
              1.0,
              "#f0f921"
             ]
            ]
           }
          ],
          "heatmap": [
           {
            "type": "heatmap",
            "colorbar": {
             "outlinewidth": 0,
             "ticks": ""
            },
            "colorscale": [
             [
              0.0,
              "#0d0887"
             ],
             [
              0.1111111111111111,
              "#46039f"
             ],
             [
              0.2222222222222222,
              "#7201a8"
             ],
             [
              0.3333333333333333,
              "#9c179e"
             ],
             [
              0.4444444444444444,
              "#bd3786"
             ],
             [
              0.5555555555555556,
              "#d8576b"
             ],
             [
              0.6666666666666666,
              "#ed7953"
             ],
             [
              0.7777777777777778,
              "#fb9f3a"
             ],
             [
              0.8888888888888888,
              "#fdca26"
             ],
             [
              1.0,
              "#f0f921"
             ]
            ]
           }
          ],
          "heatmapgl": [
           {
            "type": "heatmapgl",
            "colorbar": {
             "outlinewidth": 0,
             "ticks": ""
            },
            "colorscale": [
             [
              0.0,
              "#0d0887"
             ],
             [
              0.1111111111111111,
              "#46039f"
             ],
             [
              0.2222222222222222,
              "#7201a8"
             ],
             [
              0.3333333333333333,
              "#9c179e"
             ],
             [
              0.4444444444444444,
              "#bd3786"
             ],
             [
              0.5555555555555556,
              "#d8576b"
             ],
             [
              0.6666666666666666,
              "#ed7953"
             ],
             [
              0.7777777777777778,
              "#fb9f3a"
             ],
             [
              0.8888888888888888,
              "#fdca26"
             ],
             [
              1.0,
              "#f0f921"
             ]
            ]
           }
          ],
          "contourcarpet": [
           {
            "type": "contourcarpet",
            "colorbar": {
             "outlinewidth": 0,
             "ticks": ""
            }
           }
          ],
          "contour": [
           {
            "type": "contour",
            "colorbar": {
             "outlinewidth": 0,
             "ticks": ""
            },
            "colorscale": [
             [
              0.0,
              "#0d0887"
             ],
             [
              0.1111111111111111,
              "#46039f"
             ],
             [
              0.2222222222222222,
              "#7201a8"
             ],
             [
              0.3333333333333333,
              "#9c179e"
             ],
             [
              0.4444444444444444,
              "#bd3786"
             ],
             [
              0.5555555555555556,
              "#d8576b"
             ],
             [
              0.6666666666666666,
              "#ed7953"
             ],
             [
              0.7777777777777778,
              "#fb9f3a"
             ],
             [
              0.8888888888888888,
              "#fdca26"
             ],
             [
              1.0,
              "#f0f921"
             ]
            ]
           }
          ],
          "surface": [
           {
            "type": "surface",
            "colorbar": {
             "outlinewidth": 0,
             "ticks": ""
            },
            "colorscale": [
             [
              0.0,
              "#0d0887"
             ],
             [
              0.1111111111111111,
              "#46039f"
             ],
             [
              0.2222222222222222,
              "#7201a8"
             ],
             [
              0.3333333333333333,
              "#9c179e"
             ],
             [
              0.4444444444444444,
              "#bd3786"
             ],
             [
              0.5555555555555556,
              "#d8576b"
             ],
             [
              0.6666666666666666,
              "#ed7953"
             ],
             [
              0.7777777777777778,
              "#fb9f3a"
             ],
             [
              0.8888888888888888,
              "#fdca26"
             ],
             [
              1.0,
              "#f0f921"
             ]
            ]
           }
          ],
          "mesh3d": [
           {
            "type": "mesh3d",
            "colorbar": {
             "outlinewidth": 0,
             "ticks": ""
            }
           }
          ],
          "scatter": [
           {
            "fillpattern": {
             "fillmode": "overlay",
             "size": 10,
             "solidity": 0.2
            },
            "type": "scatter"
           }
          ],
          "parcoords": [
           {
            "type": "parcoords",
            "line": {
             "colorbar": {
              "outlinewidth": 0,
              "ticks": ""
             }
            }
           }
          ],
          "scatterpolargl": [
           {
            "type": "scatterpolargl",
            "marker": {
             "colorbar": {
              "outlinewidth": 0,
              "ticks": ""
             }
            }
           }
          ],
          "bar": [
           {
            "error_x": {
             "color": "#2a3f5f"
            },
            "error_y": {
             "color": "#2a3f5f"
            },
            "marker": {
             "line": {
              "color": "#E5ECF6",
              "width": 0.5
             },
             "pattern": {
              "fillmode": "overlay",
              "size": 10,
              "solidity": 0.2
             }
            },
            "type": "bar"
           }
          ],
          "scattergeo": [
           {
            "type": "scattergeo",
            "marker": {
             "colorbar": {
              "outlinewidth": 0,
              "ticks": ""
             }
            }
           }
          ],
          "scatterpolar": [
           {
            "type": "scatterpolar",
            "marker": {
             "colorbar": {
              "outlinewidth": 0,
              "ticks": ""
             }
            }
           }
          ],
          "histogram": [
           {
            "marker": {
             "pattern": {
              "fillmode": "overlay",
              "size": 10,
              "solidity": 0.2
             }
            },
            "type": "histogram"
           }
          ],
          "scattergl": [
           {
            "type": "scattergl",
            "marker": {
             "colorbar": {
              "outlinewidth": 0,
              "ticks": ""
             }
            }
           }
          ],
          "scatter3d": [
           {
            "type": "scatter3d",
            "line": {
             "colorbar": {
              "outlinewidth": 0,
              "ticks": ""
             }
            },
            "marker": {
             "colorbar": {
              "outlinewidth": 0,
              "ticks": ""
             }
            }
           }
          ],
          "scattermapbox": [
           {
            "type": "scattermapbox",
            "marker": {
             "colorbar": {
              "outlinewidth": 0,
              "ticks": ""
             }
            }
           }
          ],
          "scatterternary": [
           {
            "type": "scatterternary",
            "marker": {
             "colorbar": {
              "outlinewidth": 0,
              "ticks": ""
             }
            }
           }
          ],
          "scattercarpet": [
           {
            "type": "scattercarpet",
            "marker": {
             "colorbar": {
              "outlinewidth": 0,
              "ticks": ""
             }
            }
           }
          ],
          "carpet": [
           {
            "aaxis": {
             "endlinecolor": "#2a3f5f",
             "gridcolor": "white",
             "linecolor": "white",
             "minorgridcolor": "white",
             "startlinecolor": "#2a3f5f"
            },
            "baxis": {
             "endlinecolor": "#2a3f5f",
             "gridcolor": "white",
             "linecolor": "white",
             "minorgridcolor": "white",
             "startlinecolor": "#2a3f5f"
            },
            "type": "carpet"
           }
          ],
          "table": [
           {
            "cells": {
             "fill": {
              "color": "#EBF0F8"
             },
             "line": {
              "color": "white"
             }
            },
            "header": {
             "fill": {
              "color": "#C8D4E3"
             },
             "line": {
              "color": "white"
             }
            },
            "type": "table"
           }
          ],
          "barpolar": [
           {
            "marker": {
             "line": {
              "color": "#E5ECF6",
              "width": 0.5
             },
             "pattern": {
              "fillmode": "overlay",
              "size": 10,
              "solidity": 0.2
             }
            },
            "type": "barpolar"
           }
          ],
          "pie": [
           {
            "automargin": true,
            "type": "pie"
           }
          ]
         },
         "layout": {
          "autotypenumbers": "strict",
          "colorway": [
           "#636efa",
           "#EF553B",
           "#00cc96",
           "#ab63fa",
           "#FFA15A",
           "#19d3f3",
           "#FF6692",
           "#B6E880",
           "#FF97FF",
           "#FECB52"
          ],
          "font": {
           "color": "#2a3f5f"
          },
          "hovermode": "closest",
          "hoverlabel": {
           "align": "left"
          },
          "paper_bgcolor": "white",
          "plot_bgcolor": "#E5ECF6",
          "polar": {
           "bgcolor": "#E5ECF6",
           "angularaxis": {
            "gridcolor": "white",
            "linecolor": "white",
            "ticks": ""
           },
           "radialaxis": {
            "gridcolor": "white",
            "linecolor": "white",
            "ticks": ""
           }
          },
          "ternary": {
           "bgcolor": "#E5ECF6",
           "aaxis": {
            "gridcolor": "white",
            "linecolor": "white",
            "ticks": ""
           },
           "baxis": {
            "gridcolor": "white",
            "linecolor": "white",
            "ticks": ""
           },
           "caxis": {
            "gridcolor": "white",
            "linecolor": "white",
            "ticks": ""
           }
          },
          "coloraxis": {
           "colorbar": {
            "outlinewidth": 0,
            "ticks": ""
           }
          },
          "colorscale": {
           "sequential": [
            [
             0.0,
             "#0d0887"
            ],
            [
             0.1111111111111111,
             "#46039f"
            ],
            [
             0.2222222222222222,
             "#7201a8"
            ],
            [
             0.3333333333333333,
             "#9c179e"
            ],
            [
             0.4444444444444444,
             "#bd3786"
            ],
            [
             0.5555555555555556,
             "#d8576b"
            ],
            [
             0.6666666666666666,
             "#ed7953"
            ],
            [
             0.7777777777777778,
             "#fb9f3a"
            ],
            [
             0.8888888888888888,
             "#fdca26"
            ],
            [
             1.0,
             "#f0f921"
            ]
           ],
           "sequentialminus": [
            [
             0.0,
             "#0d0887"
            ],
            [
             0.1111111111111111,
             "#46039f"
            ],
            [
             0.2222222222222222,
             "#7201a8"
            ],
            [
             0.3333333333333333,
             "#9c179e"
            ],
            [
             0.4444444444444444,
             "#bd3786"
            ],
            [
             0.5555555555555556,
             "#d8576b"
            ],
            [
             0.6666666666666666,
             "#ed7953"
            ],
            [
             0.7777777777777778,
             "#fb9f3a"
            ],
            [
             0.8888888888888888,
             "#fdca26"
            ],
            [
             1.0,
             "#f0f921"
            ]
           ],
           "diverging": [
            [
             0,
             "#8e0152"
            ],
            [
             0.1,
             "#c51b7d"
            ],
            [
             0.2,
             "#de77ae"
            ],
            [
             0.3,
             "#f1b6da"
            ],
            [
             0.4,
             "#fde0ef"
            ],
            [
             0.5,
             "#f7f7f7"
            ],
            [
             0.6,
             "#e6f5d0"
            ],
            [
             0.7,
             "#b8e186"
            ],
            [
             0.8,
             "#7fbc41"
            ],
            [
             0.9,
             "#4d9221"
            ],
            [
             1,
             "#276419"
            ]
           ]
          },
          "xaxis": {
           "gridcolor": "white",
           "linecolor": "white",
           "ticks": "",
           "title": {
            "standoff": 15
           },
           "zerolinecolor": "white",
           "automargin": true,
           "zerolinewidth": 2
          },
          "yaxis": {
           "gridcolor": "white",
           "linecolor": "white",
           "ticks": "",
           "title": {
            "standoff": 15
           },
           "zerolinecolor": "white",
           "automargin": true,
           "zerolinewidth": 2
          },
          "scene": {
           "xaxis": {
            "backgroundcolor": "#E5ECF6",
            "gridcolor": "white",
            "linecolor": "white",
            "showbackground": true,
            "ticks": "",
            "zerolinecolor": "white",
            "gridwidth": 2
           },
           "yaxis": {
            "backgroundcolor": "#E5ECF6",
            "gridcolor": "white",
            "linecolor": "white",
            "showbackground": true,
            "ticks": "",
            "zerolinecolor": "white",
            "gridwidth": 2
           },
           "zaxis": {
            "backgroundcolor": "#E5ECF6",
            "gridcolor": "white",
            "linecolor": "white",
            "showbackground": true,
            "ticks": "",
            "zerolinecolor": "white",
            "gridwidth": 2
           }
          },
          "shapedefaults": {
           "line": {
            "color": "#2a3f5f"
           }
          },
          "annotationdefaults": {
           "arrowcolor": "#2a3f5f",
           "arrowhead": 0,
           "arrowwidth": 1
          },
          "geo": {
           "bgcolor": "white",
           "landcolor": "#E5ECF6",
           "subunitcolor": "white",
           "showland": true,
           "showlakes": true,
           "lakecolor": "white"
          },
          "title": {
           "x": 0.05
          },
          "mapbox": {
           "style": "light"
          }
         }
        }
       },
       "config": {
        "plotlyServerURL": "https://plot.ly"
       }
      },
      "text/html": "<div>                            <div id=\"1a57989f-d106-4536-a563-25bc09ba28e2\" class=\"plotly-graph-div\" style=\"height:525px; width:100%;\"></div>            <script type=\"text/javascript\">                require([\"plotly\"], function(Plotly) {                    window.PLOTLYENV=window.PLOTLYENV || {};                                    if (document.getElementById(\"1a57989f-d106-4536-a563-25bc09ba28e2\")) {                    Plotly.newPlot(                        \"1a57989f-d106-4536-a563-25bc09ba28e2\",                        [{\"mode\":\"markers\",\"name\":\"Objective Value\",\"x\":[0,1,2,3,4,5,6,7,8,9,10,11,12,13,14,15,16,17,18,19,20,21,22,23,24,25,26,27,28,29,30,31,32,33,34,35,36,37,38,39,40,41,42,43,44,45,46,47,48,49,50,51,52,53,54,55,56,57,58,59,60,61,62,63,64,65,66,67,68,69,70,71,72,73,74,75,76,77,78,79,80,81,82,83,84,85,86,87,88,89,90,91,92,93,94,95,96,97,98,99],\"y\":[297188.85849794146,290019.9301442778,244755.2602496107,129009.03231841483,50547.38068520394,298924.9010381078,157869.14664197332,211319.4286472155,294475.58854347677,80033.54846045299,139691.9532074989,146842.06551206685,122463.13877865317,95589.9144306278,180201.16387748724,92021.5779413639,41809.97025185542,179902.17263791306,129934.34244434105,228110.24624644182,103011.21580614673,108355.72321915728,83724.46514153981,166902.6452536742,112976.16303743228,69498.91210192748,112829.55275639772,62940.88721880273,107181.85544374703,47259.688648400785,76123.19445771973,100844.20239393387,94295.20726215704,120737.49257437506,153327.5368838095,131337.98159144443,61295.542535907705,80900.741873226,254221.515728467,124347.15673163286,100878.26172066118,75166.38465646173,40887.75197571232,37373.73978040606,147829.16202169395,99023.8157228301,105785.95253311907,89179.40332063475,148297.3580319294,156917.86852663936,58318.83794550174,103106.92931811456,121549.52895196665,94141.63336635122,81387.85894519892,105382.70028449204,128672.70035451335,110903.26498541087,136548.28217820064,52077.96180926291,120949.68287551627,98518.09363665036,75976.0816746786,83887.45442159165,119763.84478130468,37723.5255896971,98514.29472722785,110848.50686128571,69528.29282515045,138143.86268244532,155033.90227321998,101083.6913605232,80465.7262486424,100316.79742783637,122236.47239743831,113959.08737211191,54302.11368968518,81921.1334002065,71076.08226914215,126371.20730881751,101386.51708618429,100113.6817478911,101236.89837945029,67866.3290680704,88102.20026957741,105853.56887167139,98628.41400764458,119595.21809562684,146814.0206284246,88894.35945322148,77050.37529629863,107170.85068565203,119622.93770182914,86951.26304900278,94535.68788429331,56318.26044008605,68370.8644974677,107847.71905247314,124523.16313616761,143882.31385409462],\"type\":\"scatter\"},{\"name\":\"Best Value\",\"x\":[0,1,2,3,4,5,6,7,8,9,10,11,12,13,14,15,16,17,18,19,20,21,22,23,24,25,26,27,28,29,30,31,32,33,34,35,36,37,38,39,40,41,42,43,44,45,46,47,48,49,50,51,52,53,54,55,56,57,58,59,60,61,62,63,64,65,66,67,68,69,70,71,72,73,74,75,76,77,78,79,80,81,82,83,84,85,86,87,88,89,90,91,92,93,94,95,96,97,98,99],\"y\":[297188.85849794146,290019.9301442778,244755.2602496107,129009.03231841483,50547.38068520394,50547.38068520394,50547.38068520394,50547.38068520394,50547.38068520394,50547.38068520394,50547.38068520394,50547.38068520394,50547.38068520394,50547.38068520394,50547.38068520394,50547.38068520394,41809.97025185542,41809.97025185542,41809.97025185542,41809.97025185542,41809.97025185542,41809.97025185542,41809.97025185542,41809.97025185542,41809.97025185542,41809.97025185542,41809.97025185542,41809.97025185542,41809.97025185542,41809.97025185542,41809.97025185542,41809.97025185542,41809.97025185542,41809.97025185542,41809.97025185542,41809.97025185542,41809.97025185542,41809.97025185542,41809.97025185542,41809.97025185542,41809.97025185542,41809.97025185542,40887.75197571232,37373.73978040606,37373.73978040606,37373.73978040606,37373.73978040606,37373.73978040606,37373.73978040606,37373.73978040606,37373.73978040606,37373.73978040606,37373.73978040606,37373.73978040606,37373.73978040606,37373.73978040606,37373.73978040606,37373.73978040606,37373.73978040606,37373.73978040606,37373.73978040606,37373.73978040606,37373.73978040606,37373.73978040606,37373.73978040606,37373.73978040606,37373.73978040606,37373.73978040606,37373.73978040606,37373.73978040606,37373.73978040606,37373.73978040606,37373.73978040606,37373.73978040606,37373.73978040606,37373.73978040606,37373.73978040606,37373.73978040606,37373.73978040606,37373.73978040606,37373.73978040606,37373.73978040606,37373.73978040606,37373.73978040606,37373.73978040606,37373.73978040606,37373.73978040606,37373.73978040606,37373.73978040606,37373.73978040606,37373.73978040606,37373.73978040606,37373.73978040606,37373.73978040606,37373.73978040606,37373.73978040606,37373.73978040606,37373.73978040606,37373.73978040606,37373.73978040606],\"type\":\"scatter\"}],                        {\"title\":{\"text\":\"Optimization History Plot\"},\"xaxis\":{\"title\":{\"text\":\"Trial\"}},\"yaxis\":{\"title\":{\"text\":\"Objective Value\"}},\"template\":{\"data\":{\"histogram2dcontour\":[{\"type\":\"histogram2dcontour\",\"colorbar\":{\"outlinewidth\":0,\"ticks\":\"\"},\"colorscale\":[[0.0,\"#0d0887\"],[0.1111111111111111,\"#46039f\"],[0.2222222222222222,\"#7201a8\"],[0.3333333333333333,\"#9c179e\"],[0.4444444444444444,\"#bd3786\"],[0.5555555555555556,\"#d8576b\"],[0.6666666666666666,\"#ed7953\"],[0.7777777777777778,\"#fb9f3a\"],[0.8888888888888888,\"#fdca26\"],[1.0,\"#f0f921\"]]}],\"choropleth\":[{\"type\":\"choropleth\",\"colorbar\":{\"outlinewidth\":0,\"ticks\":\"\"}}],\"histogram2d\":[{\"type\":\"histogram2d\",\"colorbar\":{\"outlinewidth\":0,\"ticks\":\"\"},\"colorscale\":[[0.0,\"#0d0887\"],[0.1111111111111111,\"#46039f\"],[0.2222222222222222,\"#7201a8\"],[0.3333333333333333,\"#9c179e\"],[0.4444444444444444,\"#bd3786\"],[0.5555555555555556,\"#d8576b\"],[0.6666666666666666,\"#ed7953\"],[0.7777777777777778,\"#fb9f3a\"],[0.8888888888888888,\"#fdca26\"],[1.0,\"#f0f921\"]]}],\"heatmap\":[{\"type\":\"heatmap\",\"colorbar\":{\"outlinewidth\":0,\"ticks\":\"\"},\"colorscale\":[[0.0,\"#0d0887\"],[0.1111111111111111,\"#46039f\"],[0.2222222222222222,\"#7201a8\"],[0.3333333333333333,\"#9c179e\"],[0.4444444444444444,\"#bd3786\"],[0.5555555555555556,\"#d8576b\"],[0.6666666666666666,\"#ed7953\"],[0.7777777777777778,\"#fb9f3a\"],[0.8888888888888888,\"#fdca26\"],[1.0,\"#f0f921\"]]}],\"heatmapgl\":[{\"type\":\"heatmapgl\",\"colorbar\":{\"outlinewidth\":0,\"ticks\":\"\"},\"colorscale\":[[0.0,\"#0d0887\"],[0.1111111111111111,\"#46039f\"],[0.2222222222222222,\"#7201a8\"],[0.3333333333333333,\"#9c179e\"],[0.4444444444444444,\"#bd3786\"],[0.5555555555555556,\"#d8576b\"],[0.6666666666666666,\"#ed7953\"],[0.7777777777777778,\"#fb9f3a\"],[0.8888888888888888,\"#fdca26\"],[1.0,\"#f0f921\"]]}],\"contourcarpet\":[{\"type\":\"contourcarpet\",\"colorbar\":{\"outlinewidth\":0,\"ticks\":\"\"}}],\"contour\":[{\"type\":\"contour\",\"colorbar\":{\"outlinewidth\":0,\"ticks\":\"\"},\"colorscale\":[[0.0,\"#0d0887\"],[0.1111111111111111,\"#46039f\"],[0.2222222222222222,\"#7201a8\"],[0.3333333333333333,\"#9c179e\"],[0.4444444444444444,\"#bd3786\"],[0.5555555555555556,\"#d8576b\"],[0.6666666666666666,\"#ed7953\"],[0.7777777777777778,\"#fb9f3a\"],[0.8888888888888888,\"#fdca26\"],[1.0,\"#f0f921\"]]}],\"surface\":[{\"type\":\"surface\",\"colorbar\":{\"outlinewidth\":0,\"ticks\":\"\"},\"colorscale\":[[0.0,\"#0d0887\"],[0.1111111111111111,\"#46039f\"],[0.2222222222222222,\"#7201a8\"],[0.3333333333333333,\"#9c179e\"],[0.4444444444444444,\"#bd3786\"],[0.5555555555555556,\"#d8576b\"],[0.6666666666666666,\"#ed7953\"],[0.7777777777777778,\"#fb9f3a\"],[0.8888888888888888,\"#fdca26\"],[1.0,\"#f0f921\"]]}],\"mesh3d\":[{\"type\":\"mesh3d\",\"colorbar\":{\"outlinewidth\":0,\"ticks\":\"\"}}],\"scatter\":[{\"fillpattern\":{\"fillmode\":\"overlay\",\"size\":10,\"solidity\":0.2},\"type\":\"scatter\"}],\"parcoords\":[{\"type\":\"parcoords\",\"line\":{\"colorbar\":{\"outlinewidth\":0,\"ticks\":\"\"}}}],\"scatterpolargl\":[{\"type\":\"scatterpolargl\",\"marker\":{\"colorbar\":{\"outlinewidth\":0,\"ticks\":\"\"}}}],\"bar\":[{\"error_x\":{\"color\":\"#2a3f5f\"},\"error_y\":{\"color\":\"#2a3f5f\"},\"marker\":{\"line\":{\"color\":\"#E5ECF6\",\"width\":0.5},\"pattern\":{\"fillmode\":\"overlay\",\"size\":10,\"solidity\":0.2}},\"type\":\"bar\"}],\"scattergeo\":[{\"type\":\"scattergeo\",\"marker\":{\"colorbar\":{\"outlinewidth\":0,\"ticks\":\"\"}}}],\"scatterpolar\":[{\"type\":\"scatterpolar\",\"marker\":{\"colorbar\":{\"outlinewidth\":0,\"ticks\":\"\"}}}],\"histogram\":[{\"marker\":{\"pattern\":{\"fillmode\":\"overlay\",\"size\":10,\"solidity\":0.2}},\"type\":\"histogram\"}],\"scattergl\":[{\"type\":\"scattergl\",\"marker\":{\"colorbar\":{\"outlinewidth\":0,\"ticks\":\"\"}}}],\"scatter3d\":[{\"type\":\"scatter3d\",\"line\":{\"colorbar\":{\"outlinewidth\":0,\"ticks\":\"\"}},\"marker\":{\"colorbar\":{\"outlinewidth\":0,\"ticks\":\"\"}}}],\"scattermapbox\":[{\"type\":\"scattermapbox\",\"marker\":{\"colorbar\":{\"outlinewidth\":0,\"ticks\":\"\"}}}],\"scatterternary\":[{\"type\":\"scatterternary\",\"marker\":{\"colorbar\":{\"outlinewidth\":0,\"ticks\":\"\"}}}],\"scattercarpet\":[{\"type\":\"scattercarpet\",\"marker\":{\"colorbar\":{\"outlinewidth\":0,\"ticks\":\"\"}}}],\"carpet\":[{\"aaxis\":{\"endlinecolor\":\"#2a3f5f\",\"gridcolor\":\"white\",\"linecolor\":\"white\",\"minorgridcolor\":\"white\",\"startlinecolor\":\"#2a3f5f\"},\"baxis\":{\"endlinecolor\":\"#2a3f5f\",\"gridcolor\":\"white\",\"linecolor\":\"white\",\"minorgridcolor\":\"white\",\"startlinecolor\":\"#2a3f5f\"},\"type\":\"carpet\"}],\"table\":[{\"cells\":{\"fill\":{\"color\":\"#EBF0F8\"},\"line\":{\"color\":\"white\"}},\"header\":{\"fill\":{\"color\":\"#C8D4E3\"},\"line\":{\"color\":\"white\"}},\"type\":\"table\"}],\"barpolar\":[{\"marker\":{\"line\":{\"color\":\"#E5ECF6\",\"width\":0.5},\"pattern\":{\"fillmode\":\"overlay\",\"size\":10,\"solidity\":0.2}},\"type\":\"barpolar\"}],\"pie\":[{\"automargin\":true,\"type\":\"pie\"}]},\"layout\":{\"autotypenumbers\":\"strict\",\"colorway\":[\"#636efa\",\"#EF553B\",\"#00cc96\",\"#ab63fa\",\"#FFA15A\",\"#19d3f3\",\"#FF6692\",\"#B6E880\",\"#FF97FF\",\"#FECB52\"],\"font\":{\"color\":\"#2a3f5f\"},\"hovermode\":\"closest\",\"hoverlabel\":{\"align\":\"left\"},\"paper_bgcolor\":\"white\",\"plot_bgcolor\":\"#E5ECF6\",\"polar\":{\"bgcolor\":\"#E5ECF6\",\"angularaxis\":{\"gridcolor\":\"white\",\"linecolor\":\"white\",\"ticks\":\"\"},\"radialaxis\":{\"gridcolor\":\"white\",\"linecolor\":\"white\",\"ticks\":\"\"}},\"ternary\":{\"bgcolor\":\"#E5ECF6\",\"aaxis\":{\"gridcolor\":\"white\",\"linecolor\":\"white\",\"ticks\":\"\"},\"baxis\":{\"gridcolor\":\"white\",\"linecolor\":\"white\",\"ticks\":\"\"},\"caxis\":{\"gridcolor\":\"white\",\"linecolor\":\"white\",\"ticks\":\"\"}},\"coloraxis\":{\"colorbar\":{\"outlinewidth\":0,\"ticks\":\"\"}},\"colorscale\":{\"sequential\":[[0.0,\"#0d0887\"],[0.1111111111111111,\"#46039f\"],[0.2222222222222222,\"#7201a8\"],[0.3333333333333333,\"#9c179e\"],[0.4444444444444444,\"#bd3786\"],[0.5555555555555556,\"#d8576b\"],[0.6666666666666666,\"#ed7953\"],[0.7777777777777778,\"#fb9f3a\"],[0.8888888888888888,\"#fdca26\"],[1.0,\"#f0f921\"]],\"sequentialminus\":[[0.0,\"#0d0887\"],[0.1111111111111111,\"#46039f\"],[0.2222222222222222,\"#7201a8\"],[0.3333333333333333,\"#9c179e\"],[0.4444444444444444,\"#bd3786\"],[0.5555555555555556,\"#d8576b\"],[0.6666666666666666,\"#ed7953\"],[0.7777777777777778,\"#fb9f3a\"],[0.8888888888888888,\"#fdca26\"],[1.0,\"#f0f921\"]],\"diverging\":[[0,\"#8e0152\"],[0.1,\"#c51b7d\"],[0.2,\"#de77ae\"],[0.3,\"#f1b6da\"],[0.4,\"#fde0ef\"],[0.5,\"#f7f7f7\"],[0.6,\"#e6f5d0\"],[0.7,\"#b8e186\"],[0.8,\"#7fbc41\"],[0.9,\"#4d9221\"],[1,\"#276419\"]]},\"xaxis\":{\"gridcolor\":\"white\",\"linecolor\":\"white\",\"ticks\":\"\",\"title\":{\"standoff\":15},\"zerolinecolor\":\"white\",\"automargin\":true,\"zerolinewidth\":2},\"yaxis\":{\"gridcolor\":\"white\",\"linecolor\":\"white\",\"ticks\":\"\",\"title\":{\"standoff\":15},\"zerolinecolor\":\"white\",\"automargin\":true,\"zerolinewidth\":2},\"scene\":{\"xaxis\":{\"backgroundcolor\":\"#E5ECF6\",\"gridcolor\":\"white\",\"linecolor\":\"white\",\"showbackground\":true,\"ticks\":\"\",\"zerolinecolor\":\"white\",\"gridwidth\":2},\"yaxis\":{\"backgroundcolor\":\"#E5ECF6\",\"gridcolor\":\"white\",\"linecolor\":\"white\",\"showbackground\":true,\"ticks\":\"\",\"zerolinecolor\":\"white\",\"gridwidth\":2},\"zaxis\":{\"backgroundcolor\":\"#E5ECF6\",\"gridcolor\":\"white\",\"linecolor\":\"white\",\"showbackground\":true,\"ticks\":\"\",\"zerolinecolor\":\"white\",\"gridwidth\":2}},\"shapedefaults\":{\"line\":{\"color\":\"#2a3f5f\"}},\"annotationdefaults\":{\"arrowcolor\":\"#2a3f5f\",\"arrowhead\":0,\"arrowwidth\":1},\"geo\":{\"bgcolor\":\"white\",\"landcolor\":\"#E5ECF6\",\"subunitcolor\":\"white\",\"showland\":true,\"showlakes\":true,\"lakecolor\":\"white\"},\"title\":{\"x\":0.05},\"mapbox\":{\"style\":\"light\"}}}},                        {\"responsive\": true}                    ).then(function(){\n                            \nvar gd = document.getElementById('1a57989f-d106-4536-a563-25bc09ba28e2');\nvar x = new MutationObserver(function (mutations, observer) {{\n        var display = window.getComputedStyle(gd).display;\n        if (!display || display === 'none') {{\n            console.log([gd, 'removed!']);\n            Plotly.purge(gd);\n            observer.disconnect();\n        }}\n}});\n\n// Listen for the removal of the full notebook cells\nvar notebookContainer = gd.closest('#notebook-container');\nif (notebookContainer) {{\n    x.observe(notebookContainer, {childList: true});\n}}\n\n// Listen for the clearing of the current output cell\nvar outputEl = gd.closest('.output');\nif (outputEl) {{\n    x.observe(outputEl, {childList: true});\n}}\n\n                        })                };                });            </script>        </div>"
     },
     "metadata": {},
     "output_type": "display_data"
    }
   ],
   "source": [
    "optuna.visualization.plot_optimization_history(study)"
   ],
   "metadata": {
    "collapsed": false,
    "ExecuteTime": {
     "end_time": "2023-08-07T14:24:47.424222800Z",
     "start_time": "2023-08-07T14:24:47.398864400Z"
    }
   }
  },
  {
   "cell_type": "code",
   "execution_count": 57,
   "outputs": [
    {
     "data": {
      "text/plain": "[2279,\n 681,\n 2300,\n 938,\n 504,\n 725,\n 990,\n 925,\n 2167,\n 676,\n 1008,\n 1,\n 2015,\n 1491,\n 2247,\n 2015,\n 2278,\n 1333,\n 0.9743755970211792]"
     },
     "execution_count": 57,
     "metadata": {},
     "output_type": "execute_result"
    }
   ],
   "source": [
    "params = list(study.best_params.values())\n",
    "params"
   ],
   "metadata": {
    "collapsed": false,
    "ExecuteTime": {
     "end_time": "2023-08-07T14:25:03.030447300Z",
     "start_time": "2023-08-07T14:25:03.017698100Z"
    }
   }
  },
  {
   "cell_type": "code",
   "execution_count": 58,
   "outputs": [
    {
     "data": {
      "text/plain": "37373.73978040606"
     },
     "execution_count": 58,
     "metadata": {},
     "output_type": "execute_result"
    }
   ],
   "source": [
    "GA.optimize = False\n",
    "cost, supply, solution = GA.objective_depot(params)\n",
    "cost"
   ],
   "metadata": {
    "collapsed": false,
    "ExecuteTime": {
     "end_time": "2023-08-07T14:25:13.474554500Z",
     "start_time": "2023-08-07T14:25:13.301470600Z"
    }
   }
  },
  {
   "cell_type": "code",
   "execution_count": 59,
   "outputs": [
    {
     "data": {
      "text/plain": "True"
     },
     "execution_count": 59,
     "metadata": {},
     "output_type": "execute_result"
    }
   ],
   "source": [
    "# Depot constraint is violated?\n",
    "(supply > 20e3).any()"
   ],
   "metadata": {
    "collapsed": false,
    "ExecuteTime": {
     "end_time": "2023-08-07T14:25:16.617851400Z",
     "start_time": "2023-08-07T14:25:16.608036200Z"
    }
   }
  },
  {
   "cell_type": "code",
   "execution_count": 60,
   "outputs": [
    {
     "data": {
      "text/plain": "False"
     },
     "execution_count": 60,
     "metadata": {},
     "output_type": "execute_result"
    }
   ],
   "source": [
    "# Harvest constraint is violated?\n",
    "supply.sum() < 0.8 * biomass_2010.sum()"
   ],
   "metadata": {
    "collapsed": false,
    "ExecuteTime": {
     "end_time": "2023-08-07T14:25:21.981901200Z",
     "start_time": "2023-08-07T14:25:21.967733100Z"
    }
   }
  },
  {
   "cell_type": "code",
   "execution_count": null,
   "outputs": [],
   "source": [
    "year = '2010'\n",
    "\n",
    "plt.figure(figsize=(10, 8))\n",
    "ax = sns.scatterplot(data=data, x='Longitude', y='Latitude', hue=year, palette='viridis')\n",
    "\n",
    "norm = plt.Normalize(data[year].min(), data[year].max())\n",
    "sm = plt.cm.ScalarMappable(cmap=\"viridis\", norm=norm)\n",
    "ax.get_legend().remove()\n",
    "ax.figure.colorbar(ax=ax, mappable=sm)\n",
    "\n",
    "for loc in res_depot.x[:-1]:\n",
    "    y, x = data.iloc[loc, [0]].values[0], data.iloc[loc, [1]].values[0]\n",
    "    ax.scatter(x, y, label=f'Depot {loc} location', marker='*', color='black', linewidth=5)\n",
    "#for loc in res_refinery.x:\n",
    "    #y, x = data.iloc[loc, [0]].values[0], data.iloc[loc, [1]].values[0]\n",
    "    #ax.scatter(x, y, label=f'Refinery {loc} location', marker='s', color='red', linewidth=5)\n",
    "\n",
    "plt.xlabel('Longitude')\n",
    "plt.ylabel('Latitude')\n",
    "plt.title('Spatial Biomass Distribution')"
   ],
   "metadata": {
    "collapsed": false
   }
  }
 ],
 "metadata": {
  "kernelspec": {
   "display_name": "Python 3",
   "language": "python",
   "name": "python3"
  },
  "language_info": {
   "codemirror_mode": {
    "name": "ipython",
    "version": 2
   },
   "file_extension": ".py",
   "mimetype": "text/x-python",
   "name": "python",
   "nbconvert_exporter": "python",
   "pygments_lexer": "ipython2",
   "version": "2.7.6"
  }
 },
 "nbformat": 4,
 "nbformat_minor": 0
}
