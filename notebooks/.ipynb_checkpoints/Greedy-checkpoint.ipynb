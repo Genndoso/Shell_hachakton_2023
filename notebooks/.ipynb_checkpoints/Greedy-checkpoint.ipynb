{
 "cells": [
  {
   "cell_type": "code",
   "execution_count": 1,
   "id": "5c8d66b6",
   "metadata": {},
   "outputs": [],
   "source": [
    "import os\n",
    "import pandas as pd\n",
    "import numpy as np\n",
    "import matplotlib.pyplot as plt\n",
    "import seaborn as sns\n",
    "from skopt import gp_minimize\n",
    "from skopt.space import Integer, Real\n",
    "from skopt.plots import plot_convergence, plot_evaluations\n",
    "os.chdir('/Users/vitalijstarikov/PycharmProjects/Shell_hachakton_2023')\n",
    "from src.commons.utils import get_depot_param_space, get_refinery_param_space\n",
    "from src.supply_chain_opt.greedy_algorithm import Greedy_algorithm"
   ]
  },
  {
   "cell_type": "code",
   "execution_count": null,
   "id": "59becda6",
   "metadata": {},
   "outputs": [
    {
     "name": "stdout",
     "output_type": "stream",
     "text": [
      "Optimal number of depots is 14.\n"
     ]
    }
   ],
   "source": [
    "data = pd.read_csv('data/Biomass_History.csv', index_col=0)\n",
    "dist = pd.read_csv('data/Distance_Matrix.csv', index_col=0)\n",
    "biomass_2010 = data['2010']\n",
    "\n",
    "# Greedy Algorithm\n",
    "GA = Greedy_algorithm(biomass = biomass_2010,\n",
    "                      dist = dist)\n",
    "\n",
    "# Get space for depot optimization\n",
    "space_depot, number_of_depots = get_depot_param_space(biomass=biomass_2010)\n",
    "GA.number_of_depots = number_of_depots\n",
    "\n",
    "# Optimize depot locations\n",
    "GA.optimize = True\n",
    "res_depot = gp_minimize(GA.objective_depot, space_depot, n_calls=200)\n",
    "GA.optimize = False\n",
    "depot_cost, _, biomass_demand_supply_solution = GA.objective_depot(space=res_depot.x)\n",
    "\n",
    "# Get space for refinery optimization\n",
    "space_refinery, number_of_refineries = get_refinery_param_space(biomass=GA.depot_biomass_supply)\n",
    "GA.number_of_refineries = number_of_refineries\n",
    "\n",
    "# Optimize refinery locations\n",
    "GA.optimize = True\n",
    "res_refinery = gp_minimize(GA.objective_refinery, space_refinery, n_calls=100)\n",
    "GA.optimize = False\n",
    "refinery_cost, _, pellet_demand_supply_solution = GA.objective_refinery(space=res_refinery.x)"
   ]
  },
  {
   "cell_type": "code",
   "execution_count": null,
   "id": "f5fc349e",
   "metadata": {},
   "outputs": [],
   "source": [
    "year = '2010'\n",
    "\n",
    "plt.figure(figsize=(10, 8))\n",
    "ax = sns.scatterplot(data=data, x='Longitude', y='Latitude', hue=year, palette='viridis')\n",
    "\n",
    "norm = plt.Normalize(data[year].min(), data[year].max())\n",
    "sm = plt.cm.ScalarMappable(cmap=\"viridis\", norm=norm)\n",
    "ax.get_legend().remove()\n",
    "ax.figure.colorbar(ax=ax, mappable=sm)\n",
    "\n",
    "for loc in res_depot.x[:-1]:\n",
    "    y,x = data.iloc[loc,[0]].values[0], data.iloc[loc,[1]].values[0]\n",
    "    ax.scatter(x,y, label=f'Depot {loc} location', marker='*', color='black', linewidth=5)\n",
    "for loc in res_refinery.x:\n",
    "    y,x = data.iloc[loc, [0]].values[0], data.iloc[loc, [1]].values[0]\n",
    "    ax.scatter(x,y, label=f'Refinery {loc} location', marker='s', color='red', linewidth=5)\n",
    "\n",
    "plt.xlabel('Longitude')\n",
    "plt.ylabel('Latitude')\n",
    "plt.title('Spatial Biomass Distribution')"
   ]
  },
  {
   "cell_type": "code",
   "execution_count": null,
   "id": "7dcc9983",
   "metadata": {},
   "outputs": [],
   "source": [
    "GA.depot_biomass_supply"
   ]
  },
  {
   "cell_type": "code",
   "execution_count": null,
   "id": "30b83fd2",
   "metadata": {},
   "outputs": [],
   "source": [
    "GA.refinery_biomass_supply"
   ]
  },
  {
   "cell_type": "code",
   "execution_count": null,
   "id": "1c97497a",
   "metadata": {},
   "outputs": [],
   "source": []
  }
 ],
 "metadata": {
  "kernelspec": {
   "display_name": "Python 3 (ipykernel)",
   "language": "python",
   "name": "python3"
  },
  "language_info": {
   "codemirror_mode": {
    "name": "ipython",
    "version": 3
   },
   "file_extension": ".py",
   "mimetype": "text/x-python",
   "name": "python",
   "nbconvert_exporter": "python",
   "pygments_lexer": "ipython3",
   "version": "3.7.10"
  }
 },
 "nbformat": 4,
 "nbformat_minor": 5
}
