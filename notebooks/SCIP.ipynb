{
 "cells": [
  {
   "cell_type": "code",
   "execution_count": 1,
   "metadata": {
    "ExecuteTime": {
     "end_time": "2023-08-08T09:54:22.614191Z",
     "start_time": "2023-08-08T09:54:22.578019800Z"
    }
   },
   "outputs": [],
   "source": [
    "import pandas as pd\n",
    "import numpy as np\n",
    "from pyscipopt import Model, quicksum, multidict\n",
    "import os\n",
    "os.chdir('/Users/user/PycharmProjects/Shell_hachakton_2023')"
   ]
  },
  {
   "cell_type": "code",
   "execution_count": 2,
   "metadata": {
    "collapsed": false,
    "jupyter": {
     "outputs_hidden": false
    }
   },
   "outputs": [],
   "source": [
    "data = pd.read_csv('data/Biomass_History.csv', index_col=0)\n",
    "dist = pd.read_csv('data/Distance_Matrix.csv', index_col=0)\n",
    "biomass_2010 = data['2010']"
   ]
  },
  {
   "cell_type": "code",
   "execution_count": 3,
   "metadata": {},
   "outputs": [],
   "source": [
    "def flp(I,J,d,M,f,c):\n",
    "    model = Model(\"flp\")\n",
    "    x,y = {},{}\n",
    "    for j in J:\n",
    "        y[j] = model.addVar(vtype=\"B\", name=\"y(%s)\"%j)\n",
    "        for i in I:\n",
    "            x[i,j] = model.addVar(vtype=\"C\", name=\"x(%s,%s)\"%(i,j))\n",
    "    for i in I:\n",
    "        model.addCons(quicksum(x[i,j] for j in J) == d[i], \"Demand(%s)\"%i)\n",
    "    for j in M:\n",
    "        model.addCons(quicksum(x[i,j] for i in I) <= M[j]*y[j], \"Capacity(%s)\"%i)\n",
    "    for (i,j) in x:\n",
    "        model.addCons(x[i,j] <= d[i]*y[j], \"Strong(%s,%s)\"%(i,j))\n",
    "    model.setObjective(\n",
    "        quicksum(f[j]*y[j] for j in J) +\n",
    "        quicksum(c[i,j]*x[i,j] for i in I for j in J),\n",
    "        \"minimize\")\n",
    "    model.data = x,y\n",
    "    return model\n",
    "    \n",
    "I, d = multidict({1:80, 2:270, 3:250, 4:160, 5:180})\n",
    "J, M, f = multidict({1:[500,1000], 2:[500,1000], 3:[500,1000]})\n",
    "c = {(1,1):4,  (1,2):6,  (1,3):9,\n",
    "      (2,1):5,  (2,2):4,  (2,3):7,\n",
    "      (3,1):6,  (3,2):3,  (3,3):4,\n",
    "      (4,1):8,  (4,2):5,  (4,3):3,\n",
    "      (5,1):10, (5,2):8,  (5,3):4,\n",
    "      }"
   ]
  },
  {
   "cell_type": "code",
   "execution_count": 5,
   "metadata": {
    "collapsed": false,
    "jupyter": {
     "outputs_hidden": false
    }
   },
   "outputs": [
    {
     "name": "stdout",
     "output_type": "stream",
     "text": [
      "Optimal value= 5610.0\n",
      "Facilities at nodes: [2, 3]\n",
      "Edges: [(1, 2), (2, 2), (3, 2), (3, 3), (4, 3), (5, 3)]\n"
     ]
    }
   ],
   "source": [
    "model = flp(I, J, d, M, f, c)\n",
    "model.optimize()\n",
    "EPS = 1.e-6\n",
    "x,y = model.data\n",
    "edges = [(i,j) for (i,j) in x if model.getVal(x[i,j]) > EPS]\n",
    "facilities = [j for j in y if model.getVal(y[j]) > EPS]\n",
    "print(\"Optimal value=\", model.getObjVal())\n",
    "print(\"Facilities at nodes:\", facilities)\n",
    "print(\"Edges:\", edges)"
   ]
  },
  {
   "cell_type": "code",
   "execution_count": 6,
   "metadata": {},
   "outputs": [
    {
     "data": {
      "text/plain": [
       "270.0"
      ]
     },
     "execution_count": 6,
     "metadata": {},
     "output_type": "execute_result"
    }
   ],
   "source": [
    "model.getVal(x[2,2])"
   ]
  },
  {
   "cell_type": "code",
   "execution_count": 81,
   "metadata": {},
   "outputs": [],
   "source": [
    "def CFLP(I,J,d,M,c):\n",
    "    model = Model(\"flp\")\n",
    "    x,y = {},{}\n",
    "    for j in J:\n",
    "        y[j] = model.addVar(vtype=\"B\", name=\"y(%s)\"%j)\n",
    "        for i in I:\n",
    "            x[i,j] = model.addVar(vtype=\"C\", name=\"x(%s,%s)\"%(i,j))\n",
    "    for i in I:\n",
    "        model.addCons(quicksum(x[i,j] for j in J) == d[i], \"Demand(%s)\"%i) # All demands should be met\n",
    "    for j in M:\n",
    "        model.addCons(quicksum(x[i,j] for i in I) <= M[j]*y[j], \"Capacity(%s)\"%i) # All facility should not violate capacity constraint\n",
    "    for (i,j) in x:\n",
    "        model.addCons(x[i,j] <= d[i]*y[j], \"Strong(%s,%s)\"%(i,j)) # Can't be delivered more than demand\n",
    "\n",
    "    model.setObjective(\n",
    "        quicksum((M[j]*y[j] - quicksum(x[i,j] for i in I)) for j in J) +\n",
    "        0.001 * quicksum(c[i,j]*x[i,j] for i in I for j in J),\n",
    "        \"minimize\")\n",
    "    model.data = x,y\n",
    "    return model\n",
    "\n",
    "I, d = multidict(dict(biomass_2010[0:10]))\n",
    "capacity = pd.Series(20000, index=biomass_2010[0:10].index)\n",
    "J, M = multidict(dict(capacity))\n",
    "c = dist.iloc[0:10,0:10].reset_index().melt(id_vars='index')\n",
    "c['variable'] = c['variable'].astype('int')\n",
    "c = {(row[0], row[1]):row[2] for row in c.values}"
   ]
  },
  {
   "cell_type": "code",
   "execution_count": 82,
   "metadata": {},
   "outputs": [
    {
     "name": "stdout",
     "output_type": "stream",
     "text": [
      "Optimal value= 31714.587552468915\n",
      "Facilities at nodes: [5]\n",
      "Edges: [(0, 5), (1, 5), (2, 5), (3, 5), (4, 5), (5, 5), (6, 5), (7, 5), (8, 5), (9, 5)]\n"
     ]
    }
   ],
   "source": [
    "model = CFLP(I, J, d, M, c)\n",
    "model.optimize()\n",
    "EPS = 1.e-6\n",
    "x,y = model.data\n",
    "edges = [(i,j) for (i,j) in x if model.getVal(x[i,j]) > EPS]\n",
    "facilities = [j for j in y if model.getVal(y[j]) > EPS]\n",
    "print(\"Optimal value=\", model.getObjVal())\n",
    "print(\"Facilities at nodes:\", facilities)\n",
    "print(\"Edges:\", edges)"
   ]
  },
  {
   "cell_type": "code",
   "execution_count": 85,
   "metadata": {},
   "outputs": [
    {
     "data": {
      "text/plain": [
       "44.83163452"
      ]
     },
     "execution_count": 85,
     "metadata": {},
     "output_type": "execute_result"
    }
   ],
   "source": [
    "model.getVal(x[2,5])"
   ]
  },
  {
   "cell_type": "code",
   "execution_count": 10,
   "metadata": {},
   "outputs": [],
   "source": [
    "year = 2018\n",
    "data_type = 'biomass_demand_supply'\n",
    "\n",
    "def get_routes_solution(model, edges, year, data_type):\n",
    "    solution = np.zeros(shape=(len(edges), 3))\n",
    "    for i,edge in enumerate(edges):\n",
    "        solution[i,0] = edge[0]\n",
    "        solution[i,1] = edge[1]\n",
    "        solution[i,2] = model.getVal(x[edge])\n",
    "    solution = pd.DataFrame(solution, columns=['source_index', 'destination_index', 'value'])\n",
    "    solution['year'] = year\n",
    "    solution['data_type'] = data_type\n",
    "    solution['source_index'] = solution['source_index'].astype('int')\n",
    "    solution['destination_index'] = solution['destination_index'].astype('int')\n",
    "    solution = solution[['year', 'data_type', 'source_index', 'destination_index', 'value']]\n",
    "    \n",
    "    return solution\n",
    "\n",
    "def get_locations(model, facilities, year, data_type):\n",
    "\n",
    "    solution = pd.DataFrame(np.zeros(shape=(len(facilities), 5)), columns = ['year', 'data_type', 'source_index', 'destination_index', 'value'])\n",
    "    solution['year'] = year; solution['data_type'] = data_type\n",
    "    solution['destination_index'] = np.nan; solution['value'] = np.nan\n",
    "    solution['source_index'] = facilities\n",
    "\n",
    "    return solution"
   ]
  },
  {
   "cell_type": "code",
   "execution_count": null,
   "metadata": {},
   "outputs": [],
   "source": [
    "get_routes_solution(model, edges, year, data_type)"
   ]
  },
  {
   "cell_type": "code",
   "execution_count": 11,
   "metadata": {},
   "outputs": [
    {
     "data": {
      "text/html": [
       "<div>\n",
       "<style scoped>\n",
       "    .dataframe tbody tr th:only-of-type {\n",
       "        vertical-align: middle;\n",
       "    }\n",
       "\n",
       "    .dataframe tbody tr th {\n",
       "        vertical-align: top;\n",
       "    }\n",
       "\n",
       "    .dataframe thead th {\n",
       "        text-align: right;\n",
       "    }\n",
       "</style>\n",
       "<table border=\"1\" class=\"dataframe\">\n",
       "  <thead>\n",
       "    <tr style=\"text-align: right;\">\n",
       "      <th></th>\n",
       "      <th>year</th>\n",
       "      <th>data_type</th>\n",
       "      <th>source_index</th>\n",
       "      <th>destination_index</th>\n",
       "      <th>value</th>\n",
       "    </tr>\n",
       "  </thead>\n",
       "  <tbody>\n",
       "    <tr>\n",
       "      <th>0</th>\n",
       "      <td>2018</td>\n",
       "      <td>biomass_demand_supply</td>\n",
       "      <td>2</td>\n",
       "      <td>NaN</td>\n",
       "      <td>NaN</td>\n",
       "    </tr>\n",
       "    <tr>\n",
       "      <th>1</th>\n",
       "      <td>2018</td>\n",
       "      <td>biomass_demand_supply</td>\n",
       "      <td>3</td>\n",
       "      <td>NaN</td>\n",
       "      <td>NaN</td>\n",
       "    </tr>\n",
       "  </tbody>\n",
       "</table>\n",
       "</div>"
      ],
      "text/plain": [
       "   year              data_type  source_index  destination_index  value\n",
       "0  2018  biomass_demand_supply             2                NaN    NaN\n",
       "1  2018  biomass_demand_supply             3                NaN    NaN"
      ]
     },
     "execution_count": 11,
     "metadata": {},
     "output_type": "execute_result"
    }
   ],
   "source": [
    "get_locations(model, facilities, year, data_type)"
   ]
  },
  {
   "cell_type": "code",
   "execution_count": null,
   "metadata": {},
   "outputs": [],
   "source": []
  }
 ],
 "metadata": {
  "kernelspec": {
   "display_name": "Python 3 (ipykernel)",
   "language": "python",
   "name": "python3"
  },
  "language_info": {
   "codemirror_mode": {
    "name": "ipython",
    "version": 3
   },
   "file_extension": ".py",
   "mimetype": "text/x-python",
   "name": "python",
   "nbconvert_exporter": "python",
   "pygments_lexer": "ipython3",
   "version": "3.10.12"
  }
 },
 "nbformat": 4,
 "nbformat_minor": 4
}
